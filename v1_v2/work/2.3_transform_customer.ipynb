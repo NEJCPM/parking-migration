{
 "cells": [
  {
   "cell_type": "code",
   "execution_count": null,
   "id": "494d7996-8bbe-4ca9-bb99-d40b9281875b",
   "metadata": {},
   "outputs": [],
   "source": [
    "import pandas as pd\n",
    "import environment as env\n",
    "from utils import *"
   ]
  },
  {
   "cell_type": "code",
   "execution_count": null,
   "id": "ad474519-e15e-4dad-a934-9231669603d2",
   "metadata": {},
   "outputs": [],
   "source": [
    "current_tenant = get_tenant(env.current_shopping)\n",
    "current_tenant"
   ]
  },
  {
   "cell_type": "code",
   "execution_count": null,
   "id": "5ebed824-cf89-444f-b543-7cc16a885bd9",
   "metadata": {},
   "outputs": [],
   "source": [
    "customers = pd.read_pickle('./data_source/customers.pickle')\n",
    "customers"
   ]
  },
  {
   "cell_type": "code",
   "execution_count": null,
   "id": "f61cd0ca-f404-4d8c-b6fc-a994d2cd4db2",
   "metadata": {
    "scrolled": true
   },
   "outputs": [],
   "source": [
    "customers = customers.query(\"tenant_id == @current_tenant\")\n",
    "customers = customers.reset_index(drop=True)\n",
    "customers"
   ]
  },
  {
   "cell_type": "code",
   "execution_count": null,
   "id": "eeaf6745-1238-4343-bab8-2dc34ce5d88f",
   "metadata": {
    "scrolled": true
   },
   "outputs": [],
   "source": [
    "customers.loc[ :, 'tenant_id'] = env.current_shopping\n",
    "customers"
   ]
  },
  {
   "cell_type": "code",
   "execution_count": null,
   "id": "e7d6c99e-a5c1-4782-a918-1effd5f5aeba",
   "metadata": {
    "scrolled": true
   },
   "outputs": [],
   "source": [
    "customers = customers.rename(columns={\"tenant_id\": \"shopping_id\"})\n",
    "customers"
   ]
  },
  {
   "cell_type": "code",
   "execution_count": null,
   "id": "af3d7deb-7dd4-4f0d-94dd-071751f8f913",
   "metadata": {
    "scrolled": true
   },
   "outputs": [],
   "source": [
    "customers[\"document_type\"] = [doc.upper() if isinstance(doc, str) else doc for doc in customers[\"document_type\"]]\n",
    "customers"
   ]
  },
  {
   "cell_type": "code",
   "execution_count": null,
   "id": "ab7d3549-0a23-4c50-bba3-2438393521bf",
   "metadata": {
    "scrolled": true
   },
   "outputs": [],
   "source": [
    "customers[\"created_at\"] = [ add_timezone_to_date(created_at) for created_at in customers[\"created_at\"]]\n",
    "customers[\"updated_at\"] = [ add_timezone_to_date(updated_at) for updated_at in customers[\"updated_at\"]]\n",
    "customers"
   ]
  },
  {
   "cell_type": "code",
   "execution_count": null,
   "id": "80e9d7a2-5892-471c-b6b4-d9012d411285",
   "metadata": {},
   "outputs": [],
   "source": [
    "customers.to_pickle('./data/customer.pickle')"
   ]
  }
 ],
 "metadata": {
  "kernelspec": {
   "display_name": "Python 3 (ipykernel)",
   "language": "python",
   "name": "python3"
  },
  "language_info": {
   "codemirror_mode": {
    "name": "ipython",
    "version": 3
   },
   "file_extension": ".py",
   "mimetype": "text/x-python",
   "name": "python",
   "nbconvert_exporter": "python",
   "pygments_lexer": "ipython3",
   "version": "3.11.4"
  }
 },
 "nbformat": 4,
 "nbformat_minor": 5
}
