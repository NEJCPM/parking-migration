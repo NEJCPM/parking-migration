{
 "cells": [
  {
   "cell_type": "code",
   "execution_count": null,
   "id": "2409d864-8ec5-46e9-91ae-f941e05b4399",
   "metadata": {},
   "outputs": [],
   "source": [
    "%pip install sqlalchemy sshtunnel psycopg2-binary"
   ]
  },
  {
   "cell_type": "code",
   "execution_count": null,
   "id": "28c5cf24-7dcd-4881-baee-53188b0aeb31",
   "metadata": {},
   "outputs": [],
   "source": [
    "import pandas as pd\n",
    "import environment as env\n",
    "from utils import *"
   ]
  },
  {
   "cell_type": "code",
   "execution_count": null,
   "id": "9105dc0c-eda4-4ffb-b8fe-4faa41c59787",
   "metadata": {},
   "outputs": [],
   "source": [
    "tunnel = open_ssh_tunnel(env.ssh_username, env.ssh_password, env.ssh_host, env.source_database_host, env.source_database_port)"
   ]
  },
  {
   "cell_type": "code",
   "execution_count": null,
   "id": "82b70002-b7ca-407e-a6d8-d3769f8d8ecd",
   "metadata": {},
   "outputs": [],
   "source": [
    "connection = postgres_connect(env.target_database_username, env.target_database_password, env.target_database_host, env.target_database_port, env.target_database_name)"
   ]
  },
  {
   "cell_type": "code",
   "execution_count": null,
   "id": "cad85650-7281-4f80-80fc-0a059ddab587",
   "metadata": {},
   "outputs": [],
   "source": [
    "tables = run_query(\"SELECT * FROM information_schema.tables WHERE table_schema = 'public';\", connection)\n",
    "tables"
   ]
  },
  {
   "cell_type": "code",
   "execution_count": null,
   "id": "07aa68d3-13a0-40bb-9870-3fe161d27dfc",
   "metadata": {},
   "outputs": [],
   "source": [
    "for table in tables[\"table_name\"]:\n",
    "    run_query(\"SELECT * FROM \" + table + \";\", connection).to_pickle('./data_target/' + table + '.pickle')"
   ]
  },
  {
   "cell_type": "code",
   "execution_count": null,
   "id": "3f5e8e84-dfc6-4138-a4cb-02e830c9a656",
   "metadata": {},
   "outputs": [],
   "source": [
    "connection.dispose()"
   ]
  },
  {
   "cell_type": "code",
   "execution_count": null,
   "id": "c12335b9-d2d9-4439-bd75-d2be9262530b",
   "metadata": {},
   "outputs": [],
   "source": [
    "tunnel.stop()"
   ]
  }
 ],
 "metadata": {
  "kernelspec": {
   "display_name": "Python 3 (ipykernel)",
   "language": "python",
   "name": "python3"
  },
  "language_info": {
   "codemirror_mode": {
    "name": "ipython",
    "version": 3
   },
   "file_extension": ".py",
   "mimetype": "text/x-python",
   "name": "python",
   "nbconvert_exporter": "python",
   "pygments_lexer": "ipython3",
   "version": "3.11.4"
  }
 },
 "nbformat": 4,
 "nbformat_minor": 5
}
