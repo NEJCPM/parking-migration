{
 "cells": [
  {
   "cell_type": "code",
   "execution_count": null,
   "id": "494d7996-8bbe-4ca9-bb99-d40b9281875b",
   "metadata": {},
   "outputs": [],
   "source": [
    "import pandas as pd\n",
    "import environment as env\n",
    "from utils import *"
   ]
  },
  {
   "cell_type": "code",
   "execution_count": null,
   "id": "ad474519-e15e-4dad-a934-9231669603d2",
   "metadata": {},
   "outputs": [],
   "source": [
    "current_tenant = get_tenant(env.current_shopping)\n",
    "current_tenant"
   ]
  },
  {
   "cell_type": "code",
   "execution_count": null,
   "id": "5ebed824-cf89-444f-b543-7cc16a885bd9",
   "metadata": {
    "scrolled": true
   },
   "outputs": [],
   "source": [
    "prices = pd.read_pickle('./data_source/prices.pickle')\n",
    "prices"
   ]
  },
  {
   "cell_type": "code",
   "execution_count": null,
   "id": "f61cd0ca-f404-4d8c-b6fc-a994d2cd4db2",
   "metadata": {},
   "outputs": [],
   "source": [
    "prices = prices.query(\"tenant_id == @current_tenant\")\n",
    "prices = prices.reset_index(drop=True)\n",
    "prices"
   ]
  },
  {
   "cell_type": "code",
   "execution_count": null,
   "id": "eeaf6745-1238-4343-bab8-2dc34ce5d88f",
   "metadata": {},
   "outputs": [],
   "source": [
    "prices.loc[ :, 'tenant_id'] = env.current_shopping\n",
    "prices"
   ]
  },
  {
   "cell_type": "code",
   "execution_count": null,
   "id": "6a976e7e-5b3c-406b-aa87-daa19d45831f",
   "metadata": {},
   "outputs": [],
   "source": [
    "prices = prices.rename(columns={\"tenant_id\": \"shopping_id\"})\n",
    "prices"
   ]
  },
  {
   "cell_type": "code",
   "execution_count": null,
   "id": "6645593e-5a80-4336-b319-3551674fc203",
   "metadata": {},
   "outputs": [],
   "source": [
    "prices[\"created_at\"] = [ add_timezone_to_date(created_at) for created_at in prices[\"created_at\"]]\n",
    "prices[\"updated_at\"] = [ add_timezone_to_date(updated_at) for updated_at in prices[\"updated_at\"]]\n",
    "prices"
   ]
  },
  {
   "cell_type": "code",
   "execution_count": null,
   "id": "80e9d7a2-5892-471c-b6b4-d9012d411285",
   "metadata": {},
   "outputs": [],
   "source": [
    "prices.to_pickle('./data/pricing.pickle')"
   ]
  }
 ],
 "metadata": {
  "kernelspec": {
   "display_name": "Python 3 (ipykernel)",
   "language": "python",
   "name": "python3"
  },
  "language_info": {
   "codemirror_mode": {
    "name": "ipython",
    "version": 3
   },
   "file_extension": ".py",
   "mimetype": "text/x-python",
   "name": "python",
   "nbconvert_exporter": "python",
   "pygments_lexer": "ipython3",
   "version": "3.11.4"
  }
 },
 "nbformat": 4,
 "nbformat_minor": 5
}
