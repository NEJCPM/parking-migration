{
 "cells": [
  {
   "cell_type": "code",
   "execution_count": null,
   "id": "69db8c12-d161-4ded-9e5f-b2fa155b8bc1",
   "metadata": {},
   "outputs": [],
   "source": [
    "%pip install sqlalchemy sshtunnel psycopg2-binary"
   ]
  },
  {
   "cell_type": "code",
   "execution_count": null,
   "id": "0e128014-1084-40c6-a368-24dbb3942a3b",
   "metadata": {},
   "outputs": [],
   "source": [
    "import pandas as pd\n",
    "import environment as env\n",
    "from utils import *"
   ]
  },
  {
   "cell_type": "code",
   "execution_count": null,
   "id": "af0f857b-0747-4162-9f7a-c85571a3903c",
   "metadata": {},
   "outputs": [],
   "source": [
    "tunnel = open_ssh_tunnel(env.ssh_username, env.ssh_password, env.ssh_host, env.target_database_host, env.target_database_port)"
   ]
  },
  {
   "cell_type": "code",
   "execution_count": null,
   "id": "23f8dfb0-ae58-45f0-bfce-e46ef379f4df",
   "metadata": {},
   "outputs": [],
   "source": [
    "connection = postgres_connect(env.target_database_username, env.target_database_password, env.target_database_host, env.target_database_port, env.target_database_name)"
   ]
  },
  {
   "cell_type": "code",
   "execution_count": null,
   "id": "414d1509-85ca-4245-ae2d-5d6e240f0b7c",
   "metadata": {
    "scrolled": true
   },
   "outputs": [],
   "source": [
    "receipts = pd.read_pickle('./data/receipt.pickle')\n",
    "receipts"
   ]
  },
  {
   "cell_type": "code",
   "execution_count": null,
   "id": "2070f268-2210-45c2-be62-0e570218fde8",
   "metadata": {
    "scrolled": true
   },
   "outputs": [],
   "source": [
    "receipts.to_sql('receipt', connection, if_exists=\"append\", index=False);"
   ]
  },
  {
   "cell_type": "code",
   "execution_count": null,
   "id": "041acc7f-4314-4b55-964e-0b95a4b1c31c",
   "metadata": {},
   "outputs": [],
   "source": [
    "connection.dispose()"
   ]
  },
  {
   "cell_type": "code",
   "execution_count": null,
   "id": "ba2bacf5-ce55-48b4-9174-25f9ab9703b9",
   "metadata": {},
   "outputs": [],
   "source": [
    "tunnel.stop()"
   ]
  }
 ],
 "metadata": {
  "kernelspec": {
   "display_name": "Python 3 (ipykernel)",
   "language": "python",
   "name": "python3"
  },
  "language_info": {
   "codemirror_mode": {
    "name": "ipython",
    "version": 3
   },
   "file_extension": ".py",
   "mimetype": "text/x-python",
   "name": "python",
   "nbconvert_exporter": "python",
   "pygments_lexer": "ipython3",
   "version": "3.11.4"
  }
 },
 "nbformat": 4,
 "nbformat_minor": 5
}
