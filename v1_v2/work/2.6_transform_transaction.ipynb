{
 "cells": [
  {
   "cell_type": "code",
   "execution_count": null,
   "id": "3f893731-f796-427b-84fa-ce42f4271396",
   "metadata": {},
   "outputs": [],
   "source": [
    "pip install pytz"
   ]
  },
  {
   "cell_type": "code",
   "execution_count": null,
   "id": "494d7996-8bbe-4ca9-bb99-d40b9281875b",
   "metadata": {},
   "outputs": [],
   "source": [
    "import pandas as pd\n",
    "import environment as env\n",
    "from utils import *"
   ]
  },
  {
   "cell_type": "code",
   "execution_count": null,
   "id": "ad474519-e15e-4dad-a934-9231669603d2",
   "metadata": {},
   "outputs": [],
   "source": [
    "current_tenant = get_tenant(env.current_shopping)\n",
    "current_tenant"
   ]
  },
  {
   "cell_type": "code",
   "execution_count": null,
   "id": "5ebed824-cf89-444f-b543-7cc16a885bd9",
   "metadata": {
    "scrolled": true
   },
   "outputs": [],
   "source": [
    "transactions = pd.read_pickle('./data_source/transactions.pickle')\n",
    "transactions"
   ]
  },
  {
   "cell_type": "code",
   "execution_count": null,
   "id": "f61cd0ca-f404-4d8c-b6fc-a994d2cd4db2",
   "metadata": {
    "scrolled": true
   },
   "outputs": [],
   "source": [
    "transactions = transactions.query(\"tenant_id == @current_tenant\")\n",
    "transactions = transactions.reset_index(drop=True)\n",
    "transactions"
   ]
  },
  {
   "cell_type": "code",
   "execution_count": null,
   "id": "cc5afad0-d8cb-4db2-a3e4-0e9df0f57e15",
   "metadata": {
    "scrolled": true
   },
   "outputs": [],
   "source": [
    "tickets = pd.read_pickle('./data/ticket.pickle')\n",
    "tickets = tickets.query(\"shopping_id == @env.current_shopping\")\n",
    "tickets"
   ]
  },
  {
   "cell_type": "code",
   "execution_count": null,
   "id": "bf6bd242-f477-4aaf-a920-4dee7b169c12",
   "metadata": {
    "scrolled": true
   },
   "outputs": [],
   "source": [
    "transactions = transactions[transactions.ticket_id.isin(tickets.id)]\n",
    "transactions = transactions.reset_index(drop=True)\n",
    "transactions"
   ]
  },
  {
   "cell_type": "code",
   "execution_count": null,
   "id": "eeaf6745-1238-4343-bab8-2dc34ce5d88f",
   "metadata": {
    "scrolled": true
   },
   "outputs": [],
   "source": [
    "transactions.loc[:, 'shopping_id'] = env.current_shopping\n",
    "transactions = transactions.drop(columns=['tenant_id'])\n",
    "# transactions = transactions.drop(columns=['external_id'])\n",
    "transactions"
   ]
  },
  {
   "cell_type": "code",
   "execution_count": null,
   "id": "e7d6c99e-a5c1-4782-a918-1effd5f5aeba",
   "metadata": {
    "scrolled": true
   },
   "outputs": [],
   "source": [
    "transactions = transactions.rename(columns={\"transaction_id\": \"card_transaction_id\"})\n",
    "transactions = transactions.rename(columns={\"nsu\": \"card_transaction_nsu\"})\n",
    "transactions"
   ]
  },
  {
   "cell_type": "code",
   "execution_count": null,
   "id": "4cbc0596-4286-464a-968e-70b59e4d19dc",
   "metadata": {},
   "outputs": [],
   "source": [
    "transactions[\"checkin\"] = [ add_timezone_to_date(checkin) for checkin in transactions[\"checkin\"]]\n",
    "transactions[\"checkout\"] = [ add_timezone_to_date(checkout) for checkout in transactions[\"checkout\"]]\n",
    "transactions[\"next_checkout\"] = [ add_timezone_to_date(next_checkout) for next_checkout in transactions[\"next_checkout\"]]\n",
    "transactions[\"created_at\"] = [ add_timezone_to_date(created_at) for created_at in transactions[\"created_at\"]]\n",
    "transactions[\"updated_at\"] = [ add_timezone_to_date(updated_at) for updated_at in transactions[\"updated_at\"]]\n",
    "transactions"
   ]
  },
  {
   "cell_type": "code",
   "execution_count": null,
   "id": "80e9d7a2-5892-471c-b6b4-d9012d411285",
   "metadata": {},
   "outputs": [],
   "source": [
    "transactions.to_pickle('./data/transaction.pickle')"
   ]
  }
 ],
 "metadata": {
  "kernelspec": {
   "display_name": "Python 3 (ipykernel)",
   "language": "python",
   "name": "python3"
  },
  "language_info": {
   "codemirror_mode": {
    "name": "ipython",
    "version": 3
   },
   "file_extension": ".py",
   "mimetype": "text/x-python",
   "name": "python",
   "nbconvert_exporter": "python",
   "pygments_lexer": "ipython3",
   "version": "3.11.4"
  }
 },
 "nbformat": 4,
 "nbformat_minor": 5
}
