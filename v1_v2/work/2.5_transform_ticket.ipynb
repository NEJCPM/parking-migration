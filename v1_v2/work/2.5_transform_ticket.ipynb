{
 "cells": [
  {
   "cell_type": "code",
   "execution_count": null,
   "id": "494d7996-8bbe-4ca9-bb99-d40b9281875b",
   "metadata": {},
   "outputs": [],
   "source": [
    "import pandas as pd\n",
    "import environment as env\n",
    "from utils import *"
   ]
  },
  {
   "cell_type": "code",
   "execution_count": null,
   "id": "ad474519-e15e-4dad-a934-9231669603d2",
   "metadata": {},
   "outputs": [],
   "source": [
    "current_tenant = get_tenant(env.current_shopping)\n",
    "current_tenant"
   ]
  },
  {
   "cell_type": "code",
   "execution_count": null,
   "id": "930b0054-dc50-454d-b4ea-3de2be5c5dba",
   "metadata": {},
   "outputs": [],
   "source": [
    "customers = pd.read_pickle('./data/customer.pickle')\n",
    "customers = customers.query(\"shopping_id == @env.current_shopping\")\n",
    "customers"
   ]
  },
  {
   "cell_type": "code",
   "execution_count": null,
   "id": "5ebed824-cf89-444f-b543-7cc16a885bd9",
   "metadata": {
    "scrolled": true
   },
   "outputs": [],
   "source": [
    "tickets = pd.read_pickle('./data_source/tickets.pickle')\n",
    "tickets"
   ]
  },
  {
   "cell_type": "code",
   "execution_count": null,
   "id": "f61cd0ca-f404-4d8c-b6fc-a994d2cd4db2",
   "metadata": {
    "scrolled": true
   },
   "outputs": [],
   "source": [
    "tickets = tickets[tickets.customer_id.isin(customers.id)]\n",
    "tickets = tickets.reset_index(drop=True)\n",
    "tickets"
   ]
  },
  {
   "cell_type": "code",
   "execution_count": null,
   "id": "af3d7deb-7dd4-4f0d-94dd-071751f8f913",
   "metadata": {
    "scrolled": true
   },
   "outputs": [],
   "source": [
    "tickets.loc[:, 'shopping_id'] = env.current_shopping\n",
    "tickets"
   ]
  },
  {
   "cell_type": "code",
   "execution_count": null,
   "id": "f4a12ff3-5db5-442e-a69a-dee1e8bcf04d",
   "metadata": {
    "scrolled": true
   },
   "outputs": [],
   "source": [
    "tickets[\"checkin\"] = [ add_timezone_to_date(checkin) for checkin in tickets[\"checkin\"]]\n",
    "tickets[\"checkout\"] = [ add_timezone_to_date(checkout) for checkout in tickets[\"checkout\"]]\n",
    "tickets[\"next_checkout\"] = [ add_timezone_to_date(next_checkout) for next_checkout in tickets[\"next_checkout\"]]\n",
    "tickets[\"created_at\"] = [ add_timezone_to_date(created_at) for created_at in tickets[\"created_at\"]]\n",
    "tickets[\"updated_at\"] = [ add_timezone_to_date(updated_at) for updated_at in tickets[\"updated_at\"]]\n",
    "tickets"
   ]
  },
  {
   "cell_type": "code",
   "execution_count": null,
   "id": "80e9d7a2-5892-471c-b6b4-d9012d411285",
   "metadata": {},
   "outputs": [],
   "source": [
    "tickets.to_pickle('./data/ticket.pickle')"
   ]
  }
 ],
 "metadata": {
  "kernelspec": {
   "display_name": "Python 3 (ipykernel)",
   "language": "python",
   "name": "python3"
  },
  "language_info": {
   "codemirror_mode": {
    "name": "ipython",
    "version": 3
   },
   "file_extension": ".py",
   "mimetype": "text/x-python",
   "name": "python",
   "nbconvert_exporter": "python",
   "pygments_lexer": "ipython3",
   "version": "3.11.4"
  }
 },
 "nbformat": 4,
 "nbformat_minor": 5
}
