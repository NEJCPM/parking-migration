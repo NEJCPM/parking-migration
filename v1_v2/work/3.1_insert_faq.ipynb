{
 "cells": [
  {
   "cell_type": "code",
   "execution_count": 1,
   "id": "69db8c12-d161-4ded-9e5f-b2fa155b8bc1",
   "metadata": {},
   "outputs": [
    {
     "name": "stdout",
     "output_type": "stream",
     "text": [
      "Requirement already satisfied: sqlalchemy in /opt/conda/lib/python3.11/site-packages (2.0.20)\n",
      "Requirement already satisfied: sshtunnel in /opt/conda/lib/python3.11/site-packages (0.4.0)\n",
      "Requirement already satisfied: psycopg2-binary in /opt/conda/lib/python3.11/site-packages (2.9.9)\n",
      "Requirement already satisfied: typing-extensions>=4.2.0 in /opt/conda/lib/python3.11/site-packages (from sqlalchemy) (4.7.1)\n",
      "Requirement already satisfied: greenlet!=0.4.17 in /opt/conda/lib/python3.11/site-packages (from sqlalchemy) (2.0.2)\n",
      "Requirement already satisfied: paramiko>=2.7.2 in /opt/conda/lib/python3.11/site-packages (from sshtunnel) (3.3.1)\n",
      "Requirement already satisfied: bcrypt>=3.2 in /opt/conda/lib/python3.11/site-packages (from paramiko>=2.7.2->sshtunnel) (4.0.1)\n",
      "Requirement already satisfied: cryptography>=3.3 in /opt/conda/lib/python3.11/site-packages (from paramiko>=2.7.2->sshtunnel) (41.0.3)\n",
      "Requirement already satisfied: pynacl>=1.5 in /opt/conda/lib/python3.11/site-packages (from paramiko>=2.7.2->sshtunnel) (1.5.0)\n",
      "Requirement already satisfied: cffi>=1.12 in /opt/conda/lib/python3.11/site-packages (from cryptography>=3.3->paramiko>=2.7.2->sshtunnel) (1.15.1)\n",
      "Requirement already satisfied: pycparser in /opt/conda/lib/python3.11/site-packages (from cffi>=1.12->cryptography>=3.3->paramiko>=2.7.2->sshtunnel) (2.21)\n",
      "Note: you may need to restart the kernel to use updated packages.\n"
     ]
    }
   ],
   "source": [
    "%pip install sqlalchemy sshtunnel psycopg2-binary"
   ]
  },
  {
   "cell_type": "code",
   "execution_count": 2,
   "id": "0e128014-1084-40c6-a368-24dbb3942a3b",
   "metadata": {},
   "outputs": [],
   "source": [
    "import pandas as pd\n",
    "import environment as env\n",
    "from utils import *"
   ]
  },
  {
   "cell_type": "code",
   "execution_count": 3,
   "id": "af0f857b-0747-4162-9f7a-c85571a3903c",
   "metadata": {},
   "outputs": [
    {
     "name": "stderr",
     "output_type": "stream",
     "text": [
      "2023-11-14 20:16:55,644| WAR | MainThrea/1032@sshtunnel | Could not read SSH configuration file: ~/.ssh/config\n",
      "2023-11-14 20:16:55,646| INF | MainThrea/1060@sshtunnel | 0 keys loaded from agent\n",
      "2023-11-14 20:16:55,646| INF | MainThrea/1117@sshtunnel | 0 key(s) loaded\n",
      "2023-11-14 20:16:55,646| INF | MainThrea/0978@sshtunnel | Connecting to gateway: 172.17.0.1:22 as user 'william'\n",
      "2023-11-14 20:16:55,647| DEB | MainThrea/0983@sshtunnel | Concurrent connections allowed: True\n",
      "2023-11-14 20:16:55,648| DEB | MainThrea/1414@sshtunnel | Trying to log in with password: ************\n",
      "2023-11-14 20:16:55,649| DEB | MainThrea/1204@sshtunnel | Transport socket info: (<AddressFamily.AF_INET: 2>, <SocketKind.SOCK_STREAM: 1>, 0), timeout=0.1\n",
      "2023-11-14 20:16:55,849| INF | Srv-37737/1433@sshtunnel | Opening tunnel: 0.0.0.0:37737 <> 172.17.0.1:5432\n"
     ]
    }
   ],
   "source": [
    "tunnel = open_ssh_tunnel(env.ssh_username, env.ssh_password, env.ssh_host, env.target_database_host, env.target_database_port)"
   ]
  },
  {
   "cell_type": "code",
   "execution_count": 4,
   "id": "23f8dfb0-ae58-45f0-bfce-e46ef379f4df",
   "metadata": {},
   "outputs": [],
   "source": [
    "connection = postgres_connect(env.target_database_username, env.target_database_password, env.target_database_host, env.target_database_port, env.target_database_name)"
   ]
  },
  {
   "cell_type": "code",
   "execution_count": 5,
   "id": "bf4fcd8e-7b24-496c-ac65-6f1da82082f8",
   "metadata": {},
   "outputs": [
    {
     "data": {
      "text/html": [
       "<div>\n",
       "<style scoped>\n",
       "    .dataframe tbody tr th:only-of-type {\n",
       "        vertical-align: middle;\n",
       "    }\n",
       "\n",
       "    .dataframe tbody tr th {\n",
       "        vertical-align: top;\n",
       "    }\n",
       "\n",
       "    .dataframe thead th {\n",
       "        text-align: right;\n",
       "    }\n",
       "</style>\n",
       "<table border=\"1\" class=\"dataframe\">\n",
       "  <thead>\n",
       "    <tr style=\"text-align: right;\">\n",
       "      <th></th>\n",
       "      <th>id</th>\n",
       "      <th>shopping_id</th>\n",
       "      <th>question</th>\n",
       "      <th>answer</th>\n",
       "      <th>order</th>\n",
       "    </tr>\n",
       "  </thead>\n",
       "  <tbody>\n",
       "  </tbody>\n",
       "</table>\n",
       "</div>"
      ],
      "text/plain": [
       "Empty DataFrame\n",
       "Columns: [id, shopping_id, question, answer, order]\n",
       "Index: []"
      ]
     },
     "execution_count": 5,
     "metadata": {},
     "output_type": "execute_result"
    }
   ],
   "source": [
    "target_faqs = pd.read_pickle('./data_target/faq.pickle')\n",
    "target_faqs"
   ]
  },
  {
   "cell_type": "code",
   "execution_count": 6,
   "id": "47ef6df1-c64c-47ab-86d1-27185fa00f81",
   "metadata": {},
   "outputs": [
    {
     "data": {
      "text/plain": [
       "[]"
      ]
     },
     "execution_count": 6,
     "metadata": {},
     "output_type": "execute_result"
    }
   ],
   "source": [
    "string_target_faq_ids = [str(id) for id in target_faqs['id']]\n",
    "string_target_faq_ids"
   ]
  },
  {
   "cell_type": "code",
   "execution_count": 7,
   "id": "414d1509-85ca-4245-ae2d-5d6e240f0b7c",
   "metadata": {},
   "outputs": [
    {
     "data": {
      "text/html": [
       "<div>\n",
       "<style scoped>\n",
       "    .dataframe tbody tr th:only-of-type {\n",
       "        vertical-align: middle;\n",
       "    }\n",
       "\n",
       "    .dataframe tbody tr th {\n",
       "        vertical-align: top;\n",
       "    }\n",
       "\n",
       "    .dataframe thead th {\n",
       "        text-align: right;\n",
       "    }\n",
       "</style>\n",
       "<table border=\"1\" class=\"dataframe\">\n",
       "  <thead>\n",
       "    <tr style=\"text-align: right;\">\n",
       "      <th></th>\n",
       "      <th>id</th>\n",
       "      <th>answer</th>\n",
       "      <th>question</th>\n",
       "      <th>shopping_id</th>\n",
       "      <th>order</th>\n",
       "    </tr>\n",
       "  </thead>\n",
       "  <tbody>\n",
       "    <tr>\n",
       "      <th>0</th>\n",
       "      <td>33cd31c2-b117-423e-bd5a-20dede9c0ad5</td>\n",
       "      <td>&lt;p style=\"text-align:left;\"&gt;&lt;/p&gt;\\n&lt;p style=\"te...</td>\n",
       "      <td>O que fazer se eu não conseguir ler o QR Code?</td>\n",
       "      <td>ead5811c-3105-11ec-8d3d-0242ac130003</td>\n",
       "      <td>0</td>\n",
       "    </tr>\n",
       "    <tr>\n",
       "      <th>1</th>\n",
       "      <td>ba4275aa-df0b-4e66-89e5-d579324d03a0</td>\n",
       "      <td>&lt;p style=\"text-align:justify;\"&gt;&lt;span style=\"co...</td>\n",
       "      <td>Quais os meios de pagamento recebidos no app?</td>\n",
       "      <td>ead5811c-3105-11ec-8d3d-0242ac130003</td>\n",
       "      <td>1</td>\n",
       "    </tr>\n",
       "    <tr>\n",
       "      <th>2</th>\n",
       "      <td>d6377042-fd99-462e-aa73-c4d92f45592f</td>\n",
       "      <td>&lt;p style=\"text-align:justify;\"&gt;&lt;span style=\"fo...</td>\n",
       "      <td>Eu posso acessar o histórico dos meus pagamentos?</td>\n",
       "      <td>ead5811c-3105-11ec-8d3d-0242ac130003</td>\n",
       "      <td>2</td>\n",
       "    </tr>\n",
       "  </tbody>\n",
       "</table>\n",
       "</div>"
      ],
      "text/plain": [
       "                                     id  \\\n",
       "0  33cd31c2-b117-423e-bd5a-20dede9c0ad5   \n",
       "1  ba4275aa-df0b-4e66-89e5-d579324d03a0   \n",
       "2  d6377042-fd99-462e-aa73-c4d92f45592f   \n",
       "\n",
       "                                              answer  \\\n",
       "0  <p style=\"text-align:left;\"></p>\\n<p style=\"te...   \n",
       "1  <p style=\"text-align:justify;\"><span style=\"co...   \n",
       "2  <p style=\"text-align:justify;\"><span style=\"fo...   \n",
       "\n",
       "                                            question  \\\n",
       "0     O que fazer se eu não conseguir ler o QR Code?   \n",
       "1      Quais os meios de pagamento recebidos no app?   \n",
       "2  Eu posso acessar o histórico dos meus pagamentos?   \n",
       "\n",
       "                            shopping_id  order  \n",
       "0  ead5811c-3105-11ec-8d3d-0242ac130003      0  \n",
       "1  ead5811c-3105-11ec-8d3d-0242ac130003      1  \n",
       "2  ead5811c-3105-11ec-8d3d-0242ac130003      2  "
      ]
     },
     "execution_count": 7,
     "metadata": {},
     "output_type": "execute_result"
    }
   ],
   "source": [
    "faqs = pd.read_pickle('./data/faq.pickle')\n",
    "faqs"
   ]
  },
  {
   "cell_type": "code",
   "execution_count": 8,
   "id": "d4f937bb-c450-426f-8956-a788ebe1b0a3",
   "metadata": {},
   "outputs": [
    {
     "data": {
      "text/html": [
       "<div>\n",
       "<style scoped>\n",
       "    .dataframe tbody tr th:only-of-type {\n",
       "        vertical-align: middle;\n",
       "    }\n",
       "\n",
       "    .dataframe tbody tr th {\n",
       "        vertical-align: top;\n",
       "    }\n",
       "\n",
       "    .dataframe thead th {\n",
       "        text-align: right;\n",
       "    }\n",
       "</style>\n",
       "<table border=\"1\" class=\"dataframe\">\n",
       "  <thead>\n",
       "    <tr style=\"text-align: right;\">\n",
       "      <th></th>\n",
       "      <th>id</th>\n",
       "      <th>answer</th>\n",
       "      <th>question</th>\n",
       "      <th>shopping_id</th>\n",
       "      <th>order</th>\n",
       "    </tr>\n",
       "  </thead>\n",
       "  <tbody>\n",
       "    <tr>\n",
       "      <th>0</th>\n",
       "      <td>33cd31c2-b117-423e-bd5a-20dede9c0ad5</td>\n",
       "      <td>&lt;p style=\"text-align:left;\"&gt;&lt;/p&gt;\\n&lt;p style=\"te...</td>\n",
       "      <td>O que fazer se eu não conseguir ler o QR Code?</td>\n",
       "      <td>ead5811c-3105-11ec-8d3d-0242ac130003</td>\n",
       "      <td>0</td>\n",
       "    </tr>\n",
       "    <tr>\n",
       "      <th>1</th>\n",
       "      <td>ba4275aa-df0b-4e66-89e5-d579324d03a0</td>\n",
       "      <td>&lt;p style=\"text-align:justify;\"&gt;&lt;span style=\"co...</td>\n",
       "      <td>Quais os meios de pagamento recebidos no app?</td>\n",
       "      <td>ead5811c-3105-11ec-8d3d-0242ac130003</td>\n",
       "      <td>1</td>\n",
       "    </tr>\n",
       "    <tr>\n",
       "      <th>2</th>\n",
       "      <td>d6377042-fd99-462e-aa73-c4d92f45592f</td>\n",
       "      <td>&lt;p style=\"text-align:justify;\"&gt;&lt;span style=\"fo...</td>\n",
       "      <td>Eu posso acessar o histórico dos meus pagamentos?</td>\n",
       "      <td>ead5811c-3105-11ec-8d3d-0242ac130003</td>\n",
       "      <td>2</td>\n",
       "    </tr>\n",
       "  </tbody>\n",
       "</table>\n",
       "</div>"
      ],
      "text/plain": [
       "                                     id  \\\n",
       "0  33cd31c2-b117-423e-bd5a-20dede9c0ad5   \n",
       "1  ba4275aa-df0b-4e66-89e5-d579324d03a0   \n",
       "2  d6377042-fd99-462e-aa73-c4d92f45592f   \n",
       "\n",
       "                                              answer  \\\n",
       "0  <p style=\"text-align:left;\"></p>\\n<p style=\"te...   \n",
       "1  <p style=\"text-align:justify;\"><span style=\"co...   \n",
       "2  <p style=\"text-align:justify;\"><span style=\"fo...   \n",
       "\n",
       "                                            question  \\\n",
       "0     O que fazer se eu não conseguir ler o QR Code?   \n",
       "1      Quais os meios de pagamento recebidos no app?   \n",
       "2  Eu posso acessar o histórico dos meus pagamentos?   \n",
       "\n",
       "                            shopping_id  order  \n",
       "0  ead5811c-3105-11ec-8d3d-0242ac130003      0  \n",
       "1  ead5811c-3105-11ec-8d3d-0242ac130003      1  \n",
       "2  ead5811c-3105-11ec-8d3d-0242ac130003      2  "
      ]
     },
     "execution_count": 8,
     "metadata": {},
     "output_type": "execute_result"
    }
   ],
   "source": [
    "faqs_to_insert = faqs[~faqs['id'].isin(string_target_faq_ids)]\n",
    "faqs_to_insert"
   ]
  },
  {
   "cell_type": "code",
   "execution_count": 9,
   "id": "726dfea6-e8ef-42e6-af11-557697e61925",
   "metadata": {},
   "outputs": [
    {
     "data": {
      "text/html": [
       "<div>\n",
       "<style scoped>\n",
       "    .dataframe tbody tr th:only-of-type {\n",
       "        vertical-align: middle;\n",
       "    }\n",
       "\n",
       "    .dataframe tbody tr th {\n",
       "        vertical-align: top;\n",
       "    }\n",
       "\n",
       "    .dataframe thead th {\n",
       "        text-align: right;\n",
       "    }\n",
       "</style>\n",
       "<table border=\"1\" class=\"dataframe\">\n",
       "  <thead>\n",
       "    <tr style=\"text-align: right;\">\n",
       "      <th></th>\n",
       "      <th>id</th>\n",
       "      <th>answer</th>\n",
       "      <th>question</th>\n",
       "      <th>shopping_id</th>\n",
       "      <th>order</th>\n",
       "    </tr>\n",
       "  </thead>\n",
       "  <tbody>\n",
       "  </tbody>\n",
       "</table>\n",
       "</div>"
      ],
      "text/plain": [
       "Empty DataFrame\n",
       "Columns: [id, answer, question, shopping_id, order]\n",
       "Index: []"
      ]
     },
     "execution_count": 9,
     "metadata": {},
     "output_type": "execute_result"
    }
   ],
   "source": [
    "faqs_to_not_insert = faqs[faqs['id'].isin(string_target_faq_ids)]\n",
    "faqs_to_not_insert"
   ]
  },
  {
   "cell_type": "code",
   "execution_count": 10,
   "id": "2070f268-2210-45c2-be62-0e570218fde8",
   "metadata": {},
   "outputs": [],
   "source": [
    "faqs_to_insert.to_sql('faq', connection, if_exists=\"append\", index=False);"
   ]
  },
  {
   "cell_type": "code",
   "execution_count": 11,
   "id": "defcc7be-2073-4859-9620-f0ce1f695c33",
   "metadata": {},
   "outputs": [],
   "source": [
    "connection.dispose()"
   ]
  },
  {
   "cell_type": "code",
   "execution_count": 12,
   "id": "0f490f78-1abd-497f-bc64-39baa63d7fbc",
   "metadata": {},
   "outputs": [
    {
     "name": "stderr",
     "output_type": "stream",
     "text": [
      "2023-11-14 20:16:56,071| INF | MainThrea/1374@sshtunnel | Closing all open connections...\n",
      "2023-11-14 20:16:56,073| DEB | MainThrea/1378@sshtunnel | Listening tunnels: 0.0.0.0:37737\n",
      "2023-11-14 20:16:56,073| INF | MainThrea/1458@sshtunnel | Shutting down tunnel: 0.0.0.0:37737 <> 172.17.0.1:5432 (up)\n",
      "2023-11-14 20:16:56,160| INF | Srv-37737/1439@sshtunnel | Tunnel: 0.0.0.0:37737 <> 172.17.0.1:5432 released\n",
      "2023-11-14 20:16:56,161| INF | MainThrea/1474@sshtunnel | Closing ssh transport\n",
      "2023-11-14 20:16:56,162| DEB | MainThrea/1477@sshtunnel | Transport is closed\n"
     ]
    }
   ],
   "source": [
    "tunnel.stop()"
   ]
  }
 ],
 "metadata": {
  "kernelspec": {
   "display_name": "Python 3 (ipykernel)",
   "language": "python",
   "name": "python3"
  },
  "language_info": {
   "codemirror_mode": {
    "name": "ipython",
    "version": 3
   },
   "file_extension": ".py",
   "mimetype": "text/x-python",
   "name": "python",
   "nbconvert_exporter": "python",
   "pygments_lexer": "ipython3",
   "version": "3.11.4"
  }
 },
 "nbformat": 4,
 "nbformat_minor": 5
}
