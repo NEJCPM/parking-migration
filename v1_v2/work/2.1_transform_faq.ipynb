{
 "cells": [
  {
   "cell_type": "code",
   "execution_count": null,
   "id": "494d7996-8bbe-4ca9-bb99-d40b9281875b",
   "metadata": {},
   "outputs": [],
   "source": [
    "import pandas as pd\n",
    "import environment as env\n",
    "from utils import *"
   ]
  },
  {
   "cell_type": "code",
   "execution_count": null,
   "id": "ad474519-e15e-4dad-a934-9231669603d2",
   "metadata": {},
   "outputs": [],
   "source": [
    "current_tenant = get_tenant(env.current_shopping)\n",
    "current_tenant"
   ]
  },
  {
   "cell_type": "code",
   "execution_count": null,
   "id": "5ebed824-cf89-444f-b543-7cc16a885bd9",
   "metadata": {},
   "outputs": [],
   "source": [
    "faqs = pd.read_pickle('./data_source/faqs.pickle')\n",
    "faqs"
   ]
  },
  {
   "cell_type": "code",
   "execution_count": null,
   "id": "f61cd0ca-f404-4d8c-b6fc-a994d2cd4db2",
   "metadata": {},
   "outputs": [],
   "source": [
    "faqs = faqs.query(\"tenant_id == @current_tenant\")\n",
    "faqs = faqs.reset_index(drop=True)\n",
    "faqs"
   ]
  },
  {
   "cell_type": "code",
   "execution_count": null,
   "id": "eeaf6745-1238-4343-bab8-2dc34ce5d88f",
   "metadata": {},
   "outputs": [],
   "source": [
    "faqs.loc[ :, 'tenant_id'] = env.current_shopping\n",
    "faqs"
   ]
  },
  {
   "cell_type": "code",
   "execution_count": null,
   "id": "e7d6c99e-a5c1-4782-a918-1effd5f5aeba",
   "metadata": {},
   "outputs": [],
   "source": [
    "faqs = faqs.rename(columns={\"tenant_id\": \"shopping_id\"})\n",
    "faqs = faqs.drop(columns=['created_at', 'updated_at'])\n",
    "faqs"
   ]
  },
  {
   "cell_type": "code",
   "execution_count": null,
   "id": "80e9d7a2-5892-471c-b6b4-d9012d411285",
   "metadata": {},
   "outputs": [],
   "source": [
    "faqs.to_pickle('./data/faq.pickle')"
   ]
  }
 ],
 "metadata": {
  "kernelspec": {
   "display_name": "Python 3 (ipykernel)",
   "language": "python",
   "name": "python3"
  },
  "language_info": {
   "codemirror_mode": {
    "name": "ipython",
    "version": 3
   },
   "file_extension": ".py",
   "mimetype": "text/x-python",
   "name": "python",
   "nbconvert_exporter": "python",
   "pygments_lexer": "ipython3",
   "version": "3.11.4"
  }
 },
 "nbformat": 4,
 "nbformat_minor": 5
}
