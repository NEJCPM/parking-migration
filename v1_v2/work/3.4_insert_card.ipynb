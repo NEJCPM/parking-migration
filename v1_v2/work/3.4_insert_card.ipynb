{
 "cells": [
  {
   "cell_type": "code",
   "execution_count": null,
   "id": "69db8c12-d161-4ded-9e5f-b2fa155b8bc1",
   "metadata": {},
   "outputs": [],
   "source": [
    "%pip install sqlalchemy sshtunnel psycopg2-binary"
   ]
  },
  {
   "cell_type": "code",
   "execution_count": null,
   "id": "0e128014-1084-40c6-a368-24dbb3942a3b",
   "metadata": {},
   "outputs": [],
   "source": [
    "import pandas as pd\n",
    "import environment as env\n",
    "from utils import *"
   ]
  },
  {
   "cell_type": "code",
   "execution_count": null,
   "id": "af0f857b-0747-4162-9f7a-c85571a3903c",
   "metadata": {},
   "outputs": [],
   "source": [
    "tunnel = open_ssh_tunnel(env.ssh_username, env.ssh_password, env.ssh_host, env.target_database_host, env.target_database_port)"
   ]
  },
  {
   "cell_type": "code",
   "execution_count": null,
   "id": "23f8dfb0-ae58-45f0-bfce-e46ef379f4df",
   "metadata": {},
   "outputs": [],
   "source": [
    "connection = postgres_connect(env.target_database_username, env.target_database_password, env.target_database_host, env.target_database_port, env.target_database_name)"
   ]
  },
  {
   "cell_type": "code",
   "execution_count": null,
   "id": "5e72e404-92f8-419c-85c8-8872d2d76d5d",
   "metadata": {},
   "outputs": [],
   "source": [
    "target_cards = pd.read_pickle('./data_target/card.pickle')\n",
    "target_cards"
   ]
  },
  {
   "cell_type": "code",
   "execution_count": null,
   "id": "d42b9e3a-b9c8-49ce-88e5-406a958b2ea8",
   "metadata": {},
   "outputs": [],
   "source": [
    "string_target_card_ids = [str(id) for id in target_cards['id']]\n",
    "string_target_card_ids"
   ]
  },
  {
   "cell_type": "code",
   "execution_count": null,
   "id": "414d1509-85ca-4245-ae2d-5d6e240f0b7c",
   "metadata": {},
   "outputs": [],
   "source": [
    "cards = pd.read_pickle('./data/card.pickle')\n",
    "cards"
   ]
  },
  {
   "cell_type": "code",
   "execution_count": null,
   "id": "c36bef99-a297-4a33-bb45-c425e8c39d6f",
   "metadata": {},
   "outputs": [],
   "source": [
    "cards_to_insert = cards[~cards['id'].isin(string_target_card_ids)]\n",
    "cards_to_insert"
   ]
  },
  {
   "cell_type": "code",
   "execution_count": null,
   "id": "f7cbeeac-119b-4d33-920d-839f844dfec1",
   "metadata": {},
   "outputs": [],
   "source": [
    "cards_to_not_insert = cards[cards['id'].isin(string_target_card_ids)]\n",
    "cards_to_not_insert"
   ]
  },
  {
   "cell_type": "code",
   "execution_count": null,
   "id": "2070f268-2210-45c2-be62-0e570218fde8",
   "metadata": {},
   "outputs": [],
   "source": [
    "cards_to_insert.to_sql('card', connection, if_exists=\"append\", index=False);"
   ]
  },
  {
   "cell_type": "code",
   "execution_count": null,
   "id": "352e51c8-e901-44c7-811d-4ca262467222",
   "metadata": {},
   "outputs": [],
   "source": [
    "connection.dispose()"
   ]
  },
  {
   "cell_type": "code",
   "execution_count": null,
   "id": "af91b61b-cdbe-4677-8973-fe091d32ffe7",
   "metadata": {},
   "outputs": [],
   "source": [
    "tunnel.stop()"
   ]
  }
 ],
 "metadata": {
  "kernelspec": {
   "display_name": "Python 3 (ipykernel)",
   "language": "python",
   "name": "python3"
  },
  "language_info": {
   "codemirror_mode": {
    "name": "ipython",
    "version": 3
   },
   "file_extension": ".py",
   "mimetype": "text/x-python",
   "name": "python",
   "nbconvert_exporter": "python",
   "pygments_lexer": "ipython3",
   "version": "3.11.4"
  }
 },
 "nbformat": 4,
 "nbformat_minor": 5
}
