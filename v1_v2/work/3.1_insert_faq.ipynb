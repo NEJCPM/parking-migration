{
 "cells": [
  {
   "cell_type": "code",
   "execution_count": null,
   "id": "69db8c12-d161-4ded-9e5f-b2fa155b8bc1",
   "metadata": {},
   "outputs": [],
   "source": [
    "%pip install sqlalchemy sshtunnel psycopg2-binary"
   ]
  },
  {
   "cell_type": "code",
   "execution_count": null,
   "id": "0e128014-1084-40c6-a368-24dbb3942a3b",
   "metadata": {},
   "outputs": [],
   "source": [
    "import pandas as pd\n",
    "import environment as env\n",
    "from utils import *"
   ]
  },
  {
   "cell_type": "code",
   "execution_count": null,
   "id": "af0f857b-0747-4162-9f7a-c85571a3903c",
   "metadata": {},
   "outputs": [],
   "source": [
    "tunnel = open_ssh_tunnel(env.ssh_username, env.ssh_password, env.ssh_host, env.target_database_host, env.target_database_port)"
   ]
  },
  {
   "cell_type": "code",
   "execution_count": null,
   "id": "23f8dfb0-ae58-45f0-bfce-e46ef379f4df",
   "metadata": {},
   "outputs": [],
   "source": [
    "connection = postgres_connect(env.target_database_username, env.target_database_password, env.target_database_host, env.target_database_port, env.target_database_name)"
   ]
  },
  {
   "cell_type": "code",
   "execution_count": null,
   "id": "bf4fcd8e-7b24-496c-ac65-6f1da82082f8",
   "metadata": {},
   "outputs": [],
   "source": [
    "target_faqs = pd.read_pickle('./data_target/faq.pickle')\n",
    "target_faqs"
   ]
  },
  {
   "cell_type": "code",
   "execution_count": null,
   "id": "47ef6df1-c64c-47ab-86d1-27185fa00f81",
   "metadata": {},
   "outputs": [],
   "source": [
    "string_target_faq_ids = [str(id) for id in target_faqs['id']]\n",
    "string_target_faq_ids"
   ]
  },
  {
   "cell_type": "code",
   "execution_count": null,
   "id": "414d1509-85ca-4245-ae2d-5d6e240f0b7c",
   "metadata": {},
   "outputs": [],
   "source": [
    "faqs = pd.read_pickle('./data/faq.pickle')\n",
    "faqs"
   ]
  },
  {
   "cell_type": "code",
   "execution_count": null,
   "id": "d4f937bb-c450-426f-8956-a788ebe1b0a3",
   "metadata": {},
   "outputs": [],
   "source": [
    "faqs_to_insert = faqs[~faqs['id'].isin(string_target_faq_ids)]\n",
    "faqs_to_insert"
   ]
  },
  {
   "cell_type": "code",
   "execution_count": null,
   "id": "726dfea6-e8ef-42e6-af11-557697e61925",
   "metadata": {},
   "outputs": [],
   "source": [
    "faqs_to_not_insert = faqs[faqs['id'].isin(string_target_faq_ids)]\n",
    "faqs_to_not_insert"
   ]
  },
  {
   "cell_type": "code",
   "execution_count": null,
   "id": "2070f268-2210-45c2-be62-0e570218fde8",
   "metadata": {},
   "outputs": [],
   "source": [
    "faqs_to_insert.to_sql('faq', connection, if_exists=\"append\", index=False);"
   ]
  },
  {
   "cell_type": "code",
   "execution_count": null,
   "id": "defcc7be-2073-4859-9620-f0ce1f695c33",
   "metadata": {},
   "outputs": [],
   "source": [
    "connection.dispose()"
   ]
  },
  {
   "cell_type": "code",
   "execution_count": null,
   "id": "0f490f78-1abd-497f-bc64-39baa63d7fbc",
   "metadata": {},
   "outputs": [],
   "source": [
    "tunnel.stop()"
   ]
  }
 ],
 "metadata": {
  "kernelspec": {
   "display_name": "Python 3 (ipykernel)",
   "language": "python",
   "name": "python3"
  },
  "language_info": {
   "codemirror_mode": {
    "name": "ipython",
    "version": 3
   },
   "file_extension": ".py",
   "mimetype": "text/x-python",
   "name": "python",
   "nbconvert_exporter": "python",
   "pygments_lexer": "ipython3",
   "version": "3.11.4"
  }
 },
 "nbformat": 4,
 "nbformat_minor": 5
}
