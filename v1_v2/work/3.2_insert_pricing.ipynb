{
 "cells": [
  {
   "cell_type": "code",
   "execution_count": null,
   "id": "69db8c12-d161-4ded-9e5f-b2fa155b8bc1",
   "metadata": {},
   "outputs": [],
   "source": [
    "%pip install sqlalchemy sshtunnel psycopg2-binary"
   ]
  },
  {
   "cell_type": "code",
   "execution_count": null,
   "id": "0e128014-1084-40c6-a368-24dbb3942a3b",
   "metadata": {},
   "outputs": [],
   "source": [
    "import pandas as pd\n",
    "import environment as env\n",
    "from utils import *"
   ]
  },
  {
   "cell_type": "code",
   "execution_count": null,
   "id": "af0f857b-0747-4162-9f7a-c85571a3903c",
   "metadata": {},
   "outputs": [],
   "source": [
    "tunnel = open_ssh_tunnel(env.ssh_username, env.ssh_password, env.ssh_host, env.target_database_host, env.target_database_port)"
   ]
  },
  {
   "cell_type": "code",
   "execution_count": null,
   "id": "23f8dfb0-ae58-45f0-bfce-e46ef379f4df",
   "metadata": {},
   "outputs": [],
   "source": [
    "connection = postgres_connect(env.target_database_username, env.target_database_password, env.target_database_host, env.target_database_port, env.target_database_name)"
   ]
  },
  {
   "cell_type": "code",
   "execution_count": null,
   "id": "6396715e-af68-478d-81c4-f09453dbc606",
   "metadata": {},
   "outputs": [],
   "source": [
    "target_prices = pd.read_pickle('./data_target/pricing.pickle')\n",
    "target_prices"
   ]
  },
  {
   "cell_type": "code",
   "execution_count": null,
   "id": "63d5d146-9b75-44ad-98cc-8651d6742a13",
   "metadata": {},
   "outputs": [],
   "source": [
    "string_target_price_ids = [str(id) for id in target_prices['id']]\n",
    "string_target_price_ids"
   ]
  },
  {
   "cell_type": "code",
   "execution_count": null,
   "id": "414d1509-85ca-4245-ae2d-5d6e240f0b7c",
   "metadata": {},
   "outputs": [],
   "source": [
    "prices = pd.read_pickle('./data/pricing.pickle')\n",
    "prices"
   ]
  },
  {
   "cell_type": "code",
   "execution_count": null,
   "id": "9b929938-5be6-4b4a-b318-a932e151a9c0",
   "metadata": {},
   "outputs": [],
   "source": [
    "prices_to_insert = prices[~prices['id'].isin(string_target_price_ids)]\n",
    "prices_to_insert"
   ]
  },
  {
   "cell_type": "code",
   "execution_count": null,
   "id": "59e8170c-073e-4d66-8898-a38603360e09",
   "metadata": {},
   "outputs": [],
   "source": [
    "prices_to_not_insert = prices[prices['id'].isin(string_target_price_ids)]\n",
    "prices_to_not_insert"
   ]
  },
  {
   "cell_type": "code",
   "execution_count": null,
   "id": "2070f268-2210-45c2-be62-0e570218fde8",
   "metadata": {},
   "outputs": [],
   "source": [
    "prices_to_insert.to_sql('pricing', connection, if_exists=\"append\", index=False);"
   ]
  },
  {
   "cell_type": "code",
   "execution_count": null,
   "id": "486c19d4-d987-4a0f-af2a-be89424c789e",
   "metadata": {},
   "outputs": [],
   "source": [
    "connection.dispose()"
   ]
  },
  {
   "cell_type": "code",
   "execution_count": null,
   "id": "cb6bf0c3-9b9d-4cb8-ae66-bd445e93f8ca",
   "metadata": {},
   "outputs": [],
   "source": [
    "tunnel.stop()"
   ]
  }
 ],
 "metadata": {
  "kernelspec": {
   "display_name": "Python 3 (ipykernel)",
   "language": "python",
   "name": "python3"
  },
  "language_info": {
   "codemirror_mode": {
    "name": "ipython",
    "version": 3
   },
   "file_extension": ".py",
   "mimetype": "text/x-python",
   "name": "python",
   "nbconvert_exporter": "python",
   "pygments_lexer": "ipython3",
   "version": "3.11.4"
  }
 },
 "nbformat": 4,
 "nbformat_minor": 5
}
