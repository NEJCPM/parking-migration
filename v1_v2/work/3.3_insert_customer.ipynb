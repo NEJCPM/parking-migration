{
 "cells": [
  {
   "cell_type": "code",
   "execution_count": null,
   "id": "69db8c12-d161-4ded-9e5f-b2fa155b8bc1",
   "metadata": {},
   "outputs": [],
   "source": [
    "%pip install sqlalchemy sshtunnel psycopg2-binary"
   ]
  },
  {
   "cell_type": "code",
   "execution_count": null,
   "id": "0e128014-1084-40c6-a368-24dbb3942a3b",
   "metadata": {},
   "outputs": [],
   "source": [
    "import pandas as pd\n",
    "import environment as env\n",
    "from utils import *"
   ]
  },
  {
   "cell_type": "code",
   "execution_count": null,
   "id": "af0f857b-0747-4162-9f7a-c85571a3903c",
   "metadata": {},
   "outputs": [],
   "source": [
    "tunnel = open_ssh_tunnel(env.ssh_username, env.ssh_password, env.ssh_host, env.target_database_host, env.target_database_port)"
   ]
  },
  {
   "cell_type": "code",
   "execution_count": null,
   "id": "23f8dfb0-ae58-45f0-bfce-e46ef379f4df",
   "metadata": {},
   "outputs": [],
   "source": [
    "connection = postgres_connect(env.target_database_username, env.target_database_password, env.target_database_host, env.target_database_port, env.target_database_name)"
   ]
  },
  {
   "cell_type": "code",
   "execution_count": null,
   "id": "22173dba-d3ce-43a2-b440-8cce8591b90c",
   "metadata": {},
   "outputs": [],
   "source": [
    "target_customers = pd.read_pickle('./data_target/customer.pickle')\n",
    "target_customers"
   ]
  },
  {
   "cell_type": "code",
   "execution_count": null,
   "id": "df0de04f-8da7-4232-abab-5fbd2fd5c3a6",
   "metadata": {},
   "outputs": [],
   "source": [
    "string_target_customer_ids = [str(id) for id in target_customers['id']]\n",
    "string_target_customer_ids"
   ]
  },
  {
   "cell_type": "code",
   "execution_count": null,
   "id": "414d1509-85ca-4245-ae2d-5d6e240f0b7c",
   "metadata": {},
   "outputs": [],
   "source": [
    "customers = pd.read_pickle('./data/customer.pickle')\n",
    "customers"
   ]
  },
  {
   "cell_type": "code",
   "execution_count": null,
   "id": "5df2657d-dccc-43b7-bdf2-915c11164457",
   "metadata": {},
   "outputs": [],
   "source": [
    "customers_to_insert = customers[~customers['id'].isin(string_target_customer_ids)]\n",
    "customers_to_insert"
   ]
  },
  {
   "cell_type": "code",
   "execution_count": null,
   "id": "7676c15a-14a0-4638-b4e3-8ee3755c0a8b",
   "metadata": {},
   "outputs": [],
   "source": [
    "customers_to_not_insert = customers[customers['id'].isin(string_target_customer_ids)]\n",
    "customers_to_not_insert"
   ]
  },
  {
   "cell_type": "code",
   "execution_count": null,
   "id": "2070f268-2210-45c2-be62-0e570218fde8",
   "metadata": {},
   "outputs": [],
   "source": [
    "customers_to_insert.to_sql('customer', connection, if_exists=\"append\", index=False);"
   ]
  },
  {
   "cell_type": "code",
   "execution_count": null,
   "id": "9a9697fe-6bc4-4fdc-8f98-58c4c2b74772",
   "metadata": {},
   "outputs": [],
   "source": [
    "connection.dispose()"
   ]
  },
  {
   "cell_type": "code",
   "execution_count": null,
   "id": "7a167765-75b7-4229-9b67-de761d15b6ae",
   "metadata": {},
   "outputs": [],
   "source": [
    "tunnel.stop()"
   ]
  }
 ],
 "metadata": {
  "kernelspec": {
   "display_name": "Python 3 (ipykernel)",
   "language": "python",
   "name": "python3"
  },
  "language_info": {
   "codemirror_mode": {
    "name": "ipython",
    "version": 3
   },
   "file_extension": ".py",
   "mimetype": "text/x-python",
   "name": "python",
   "nbconvert_exporter": "python",
   "pygments_lexer": "ipython3",
   "version": "3.11.4"
  }
 },
 "nbformat": 4,
 "nbformat_minor": 5
}
