{
 "cells": [
  {
   "cell_type": "code",
   "execution_count": null,
   "id": "2409d864-8ec5-46e9-91ae-f941e05b4399",
   "metadata": {},
   "outputs": [],
   "source": [
    "%pip install sqlalchemy pymysql sshtunnel psycopg2-binary pytz"
   ]
  },
  {
   "cell_type": "code",
   "execution_count": null,
   "id": "28c5cf24-7dcd-4881-baee-53188b0aeb31",
   "metadata": {},
   "outputs": [],
   "source": [
    "import pandas as pd\n",
    "import environment as env\n",
    "from utils import *"
   ]
  },
  {
   "cell_type": "code",
   "execution_count": null,
   "id": "9105dc0c-eda4-4ffb-b8fe-4faa41c59787",
   "metadata": {},
   "outputs": [],
   "source": [
    "tunnel = open_ssh_tunnel(env.ssh_username, env.ssh_password, env.ssh_host, env.source_database_host, env.source_database_port)"
   ]
  },
  {
   "cell_type": "code",
   "execution_count": null,
   "id": "82b70002-b7ca-407e-a6d8-d3769f8d8ecd",
   "metadata": {},
   "outputs": [],
   "source": [
    "connection = mysql_connect(env.source_database_username, env.source_database_password, env.source_database_host, env.source_database_port, env.source_database_name)"
   ]
  },
  {
   "cell_type": "code",
   "execution_count": null,
   "id": "cad85650-7281-4f80-80fc-0a059ddab587",
   "metadata": {},
   "outputs": [],
   "source": [
    "tables = run_query(\"SHOW TABLES;\", connection)\n",
    "tables"
   ]
  },
  {
   "cell_type": "code",
   "execution_count": null,
   "id": "07aa68d3-13a0-40bb-9870-3fe161d27dfc",
   "metadata": {},
   "outputs": [],
   "source": [
    "for table in tables[\"Tables_in_jcpmdb\"]:\n",
    "    run_query(\"SELECT * FROM \" + table + \";\", connection).to_pickle('./data_source/' + table + '.pickle')"
   ]
  },
  {
   "cell_type": "code",
   "execution_count": null,
   "id": "e96f0c53-47ea-4302-b77f-c0594784f55c",
   "metadata": {},
   "outputs": [],
   "source": [
    "connection.dispose()"
   ]
  },
  {
   "cell_type": "code",
   "execution_count": null,
   "id": "f49a0daa-d7ed-4b4a-bfb7-aa8f1695b41f",
   "metadata": {},
   "outputs": [],
   "source": [
    "tunnel.stop()"
   ]
  }
 ],
 "metadata": {
  "kernelspec": {
   "display_name": "Python 3 (ipykernel)",
   "language": "python",
   "name": "python3"
  },
  "language_info": {
   "codemirror_mode": {
    "name": "ipython",
    "version": 3
   },
   "file_extension": ".py",
   "mimetype": "text/x-python",
   "name": "python",
   "nbconvert_exporter": "python",
   "pygments_lexer": "ipython3",
   "version": "3.11.4"
  }
 },
 "nbformat": 4,
 "nbformat_minor": 5
}
