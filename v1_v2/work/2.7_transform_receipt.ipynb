{
 "cells": [
  {
   "cell_type": "code",
   "execution_count": null,
   "id": "494d7996-8bbe-4ca9-bb99-d40b9281875b",
   "metadata": {},
   "outputs": [],
   "source": [
    "import pandas as pd\n",
    "import uuid\n",
    "import environment as env\n",
    "from utils import *"
   ]
  },
  {
   "cell_type": "code",
   "execution_count": null,
   "id": "ad474519-e15e-4dad-a934-9231669603d2",
   "metadata": {},
   "outputs": [],
   "source": [
    "current_tenant = get_tenant(env.current_shopping)\n",
    "current_tenant"
   ]
  },
  {
   "cell_type": "code",
   "execution_count": null,
   "id": "5ebed824-cf89-444f-b543-7cc16a885bd9",
   "metadata": {
    "scrolled": true
   },
   "outputs": [],
   "source": [
    "transactions = pd.read_pickle('./data/transaction.pickle')\n",
    "transactions = transactions.query(\"shopping_id == @env.current_shopping\")\n",
    "transactions = transactions.reset_index(drop=True)\n",
    "transactions"
   ]
  },
  {
   "cell_type": "code",
   "execution_count": null,
   "id": "18b8a180-642f-4896-9d85-45a1bdbc047f",
   "metadata": {
    "scrolled": true
   },
   "outputs": [],
   "source": [
    "cards = pd.read_pickle('./data/card.pickle')\n",
    "cards = cards.query(\"shopping_id == @env.current_shopping\")\n",
    "cards = cards.reset_index(drop=True)\n",
    "cards"
   ]
  },
  {
   "cell_type": "code",
   "execution_count": null,
   "id": "bf6bd242-f477-4aaf-a920-4dee7b169c12",
   "metadata": {
    "scrolled": true
   },
   "outputs": [],
   "source": [
    "receipts = pd.DataFrame([], columns=['id', 'shopping_id', 'customer_id', 'transaction_id', 'ticket_id', 'card_id', 'rps', 'credit_card_brand', 'credit_card_expiration_date', 'credit_card_holder', 'credit_card_name', 'credit_card_number'])\n",
    "\n",
    "for transaction in transactions.itertuples():\n",
    "    card = cards.loc[cards['id'] == transaction.card_id]\n",
    "    card = card if card.size != 0 else None\n",
    "    \n",
    "    newReceipt = {\n",
    "        'id': uuid.uuid4(),\n",
    "        'shopping_id': transaction.shopping_id,\n",
    "        'customer_id': transaction.customer_id,\n",
    "        'transaction_id': transaction.id,\n",
    "        'ticket_id': transaction.ticket_id,\n",
    "        'card_id': transaction.card_id if bool(transaction.card_id) else None,\n",
    "        'rps': None,\n",
    "        'credit_card_brand': card['brand'].iloc[0] if card is not None else None,\n",
    "        'credit_card_expiration_date': card['expiration_date'].iloc[0] if card is not None else None,\n",
    "        'credit_card_holder': card['holder'].iloc[0] if card is not None else None,\n",
    "        'credit_card_name': card['name'].iloc[0] if card is not None else None,\n",
    "        'credit_card_number': card['number'].iloc[0] if card is not None else None\n",
    "    }\n",
    "\n",
    "    receipts.loc[len(receipts)] = newReceipt\n",
    "\n",
    "receipts"
   ]
  },
  {
   "cell_type": "code",
   "execution_count": null,
   "id": "80e9d7a2-5892-471c-b6b4-d9012d411285",
   "metadata": {},
   "outputs": [],
   "source": [
    "receipts.to_pickle('./data/receipt.pickle')"
   ]
  }
 ],
 "metadata": {
  "kernelspec": {
   "display_name": "Python 3 (ipykernel)",
   "language": "python",
   "name": "python3"
  },
  "language_info": {
   "codemirror_mode": {
    "name": "ipython",
    "version": 3
   },
   "file_extension": ".py",
   "mimetype": "text/x-python",
   "name": "python",
   "nbconvert_exporter": "python",
   "pygments_lexer": "ipython3",
   "version": "3.11.4"
  }
 },
 "nbformat": 4,
 "nbformat_minor": 5
}
