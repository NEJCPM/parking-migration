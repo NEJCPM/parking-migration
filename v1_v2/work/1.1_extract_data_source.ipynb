{
 "cells": [
  {
   "cell_type": "code",
   "execution_count": 1,
   "id": "2409d864-8ec5-46e9-91ae-f941e05b4399",
   "metadata": {},
   "outputs": [
    {
     "name": "stdout",
     "output_type": "stream",
     "text": [
      "Requirement already satisfied: sqlalchemy in /opt/conda/lib/python3.11/site-packages (2.0.20)\n",
      "Requirement already satisfied: pymysql in /opt/conda/lib/python3.11/site-packages (1.1.0)\n",
      "Requirement already satisfied: sshtunnel in /opt/conda/lib/python3.11/site-packages (0.4.0)\n",
      "Requirement already satisfied: psycopg2-binary in /opt/conda/lib/python3.11/site-packages (2.9.9)\n",
      "Requirement already satisfied: pytz in /opt/conda/lib/python3.11/site-packages (2023.3)\n",
      "Requirement already satisfied: typing-extensions>=4.2.0 in /opt/conda/lib/python3.11/site-packages (from sqlalchemy) (4.7.1)\n",
      "Requirement already satisfied: greenlet!=0.4.17 in /opt/conda/lib/python3.11/site-packages (from sqlalchemy) (2.0.2)\n",
      "Requirement already satisfied: paramiko>=2.7.2 in /opt/conda/lib/python3.11/site-packages (from sshtunnel) (3.3.1)\n",
      "Requirement already satisfied: bcrypt>=3.2 in /opt/conda/lib/python3.11/site-packages (from paramiko>=2.7.2->sshtunnel) (4.0.1)\n",
      "Requirement already satisfied: cryptography>=3.3 in /opt/conda/lib/python3.11/site-packages (from paramiko>=2.7.2->sshtunnel) (41.0.3)\n",
      "Requirement already satisfied: pynacl>=1.5 in /opt/conda/lib/python3.11/site-packages (from paramiko>=2.7.2->sshtunnel) (1.5.0)\n",
      "Requirement already satisfied: cffi>=1.12 in /opt/conda/lib/python3.11/site-packages (from cryptography>=3.3->paramiko>=2.7.2->sshtunnel) (1.15.1)\n",
      "Requirement already satisfied: pycparser in /opt/conda/lib/python3.11/site-packages (from cffi>=1.12->cryptography>=3.3->paramiko>=2.7.2->sshtunnel) (2.21)\n",
      "Note: you may need to restart the kernel to use updated packages.\n"
     ]
    }
   ],
   "source": [
    "%pip install sqlalchemy pymysql sshtunnel psycopg2-binary pytz"
   ]
  },
  {
   "cell_type": "code",
   "execution_count": 2,
   "id": "28c5cf24-7dcd-4881-baee-53188b0aeb31",
   "metadata": {},
   "outputs": [],
   "source": [
    "import pandas as pd\n",
    "import environment as env\n",
    "from utils import *"
   ]
  },
  {
   "cell_type": "code",
   "execution_count": 3,
   "id": "9105dc0c-eda4-4ffb-b8fe-4faa41c59787",
   "metadata": {},
   "outputs": [
    {
     "name": "stderr",
     "output_type": "stream",
     "text": [
      "2023-11-14 20:07:11,329| WAR | MainThrea/1032@sshtunnel | Could not read SSH configuration file: ~/.ssh/config\n",
      "2023-11-14 20:07:11,330| INF | MainThrea/1060@sshtunnel | 0 keys loaded from agent\n",
      "2023-11-14 20:07:11,330| INF | MainThrea/1117@sshtunnel | 0 key(s) loaded\n",
      "2023-11-14 20:07:11,331| INF | MainThrea/0978@sshtunnel | Connecting to gateway: 172.17.0.1:22 as user 'william'\n",
      "2023-11-14 20:07:11,331| DEB | MainThrea/0983@sshtunnel | Concurrent connections allowed: True\n",
      "2023-11-14 20:07:11,332| DEB | MainThrea/1414@sshtunnel | Trying to log in with password: ************\n",
      "2023-11-14 20:07:11,333| DEB | MainThrea/1204@sshtunnel | Transport socket info: (<AddressFamily.AF_INET: 2>, <SocketKind.SOCK_STREAM: 1>, 0), timeout=0.1\n",
      "2023-11-14 20:07:11,504| INF | Srv-36561/1433@sshtunnel | Opening tunnel: 0.0.0.0:36561 <> grjcpm-rds-aurora-bossabox.cluster-ccmlp7sdp395.us-east-1.rds.amazonaws.com:3306\n"
     ]
    }
   ],
   "source": [
    "tunnel = open_ssh_tunnel(env.ssh_username, env.ssh_password, env.ssh_host, env.source_database_host, env.source_database_port)"
   ]
  },
  {
   "cell_type": "code",
   "execution_count": 4,
   "id": "82b70002-b7ca-407e-a6d8-d3769f8d8ecd",
   "metadata": {},
   "outputs": [],
   "source": [
    "connection = mysql_connect(env.source_database_username, env.source_database_password, env.source_database_host, env.source_database_port, env.source_database_name)"
   ]
  },
  {
   "cell_type": "code",
   "execution_count": 5,
   "id": "cad85650-7281-4f80-80fc-0a059ddab587",
   "metadata": {},
   "outputs": [
    {
     "name": "stdout",
     "output_type": "stream",
     "text": [
      "2023-11-14 20:07:12,763 INFO sqlalchemy.engine.Engine SELECT DATABASE()\n",
      "2023-11-14 20:07:12,764 INFO sqlalchemy.engine.Engine [raw sql] {}\n",
      "2023-11-14 20:07:13,090 INFO sqlalchemy.engine.Engine SELECT @@sql_mode\n",
      "2023-11-14 20:07:13,091 INFO sqlalchemy.engine.Engine [raw sql] {}\n",
      "2023-11-14 20:07:13,249 INFO sqlalchemy.engine.Engine SELECT @@lower_case_table_names\n",
      "2023-11-14 20:07:13,249 INFO sqlalchemy.engine.Engine [raw sql] {}\n",
      "2023-11-14 20:07:13,567 INFO sqlalchemy.engine.Engine BEGIN (implicit)\n",
      "2023-11-14 20:07:13,568 INFO sqlalchemy.engine.Engine SHOW TABLES;\n",
      "2023-11-14 20:07:13,568 INFO sqlalchemy.engine.Engine [raw sql] {}\n",
      "2023-11-14 20:07:13,722 INFO sqlalchemy.engine.Engine ROLLBACK\n"
     ]
    },
    {
     "data": {
      "text/html": [
       "<div>\n",
       "<style scoped>\n",
       "    .dataframe tbody tr th:only-of-type {\n",
       "        vertical-align: middle;\n",
       "    }\n",
       "\n",
       "    .dataframe tbody tr th {\n",
       "        vertical-align: top;\n",
       "    }\n",
       "\n",
       "    .dataframe thead th {\n",
       "        text-align: right;\n",
       "    }\n",
       "</style>\n",
       "<table border=\"1\" class=\"dataframe\">\n",
       "  <thead>\n",
       "    <tr style=\"text-align: right;\">\n",
       "      <th></th>\n",
       "      <th>Tables_in_jcpmdb</th>\n",
       "    </tr>\n",
       "  </thead>\n",
       "  <tbody>\n",
       "    <tr>\n",
       "      <th>0</th>\n",
       "      <td>adonis_schema</td>\n",
       "    </tr>\n",
       "    <tr>\n",
       "      <th>1</th>\n",
       "      <td>adverts</td>\n",
       "    </tr>\n",
       "    <tr>\n",
       "      <th>2</th>\n",
       "      <td>api_tokens</td>\n",
       "    </tr>\n",
       "    <tr>\n",
       "      <th>3</th>\n",
       "      <td>cards</td>\n",
       "    </tr>\n",
       "    <tr>\n",
       "      <th>4</th>\n",
       "      <td>customers</td>\n",
       "    </tr>\n",
       "    <tr>\n",
       "      <th>5</th>\n",
       "      <td>emails</td>\n",
       "    </tr>\n",
       "    <tr>\n",
       "      <th>6</th>\n",
       "      <td>faqs</td>\n",
       "    </tr>\n",
       "    <tr>\n",
       "      <th>7</th>\n",
       "      <td>http_events</td>\n",
       "    </tr>\n",
       "    <tr>\n",
       "      <th>8</th>\n",
       "      <td>logs</td>\n",
       "    </tr>\n",
       "    <tr>\n",
       "      <th>9</th>\n",
       "      <td>prices</td>\n",
       "    </tr>\n",
       "    <tr>\n",
       "      <th>10</th>\n",
       "      <td>qrcodes</td>\n",
       "    </tr>\n",
       "    <tr>\n",
       "      <th>11</th>\n",
       "      <td>services</td>\n",
       "    </tr>\n",
       "    <tr>\n",
       "      <th>12</th>\n",
       "      <td>tenants</td>\n",
       "    </tr>\n",
       "    <tr>\n",
       "      <th>13</th>\n",
       "      <td>tickets</td>\n",
       "    </tr>\n",
       "    <tr>\n",
       "      <th>14</th>\n",
       "      <td>transactions</td>\n",
       "    </tr>\n",
       "    <tr>\n",
       "      <th>15</th>\n",
       "      <td>user_tenants</td>\n",
       "    </tr>\n",
       "    <tr>\n",
       "      <th>16</th>\n",
       "      <td>users</td>\n",
       "    </tr>\n",
       "    <tr>\n",
       "      <th>17</th>\n",
       "      <td>v2_schema</td>\n",
       "    </tr>\n",
       "    <tr>\n",
       "      <th>18</th>\n",
       "      <td>v2_schema_lock</td>\n",
       "    </tr>\n",
       "  </tbody>\n",
       "</table>\n",
       "</div>"
      ],
      "text/plain": [
       "   Tables_in_jcpmdb\n",
       "0     adonis_schema\n",
       "1           adverts\n",
       "2        api_tokens\n",
       "3             cards\n",
       "4         customers\n",
       "5            emails\n",
       "6              faqs\n",
       "7       http_events\n",
       "8              logs\n",
       "9            prices\n",
       "10          qrcodes\n",
       "11         services\n",
       "12          tenants\n",
       "13          tickets\n",
       "14     transactions\n",
       "15     user_tenants\n",
       "16            users\n",
       "17        v2_schema\n",
       "18   v2_schema_lock"
      ]
     },
     "execution_count": 5,
     "metadata": {},
     "output_type": "execute_result"
    }
   ],
   "source": [
    "tables = run_query(\"SHOW TABLES;\", connection)\n",
    "tables"
   ]
  },
  {
   "cell_type": "code",
   "execution_count": 6,
   "id": "07aa68d3-13a0-40bb-9870-3fe161d27dfc",
   "metadata": {},
   "outputs": [
    {
     "name": "stdout",
     "output_type": "stream",
     "text": [
      "2023-11-14 20:07:13,897 INFO sqlalchemy.engine.Engine BEGIN (implicit)\n",
      "2023-11-14 20:07:13,897 INFO sqlalchemy.engine.Engine SELECT * FROM adonis_schema;\n",
      "2023-11-14 20:07:13,898 INFO sqlalchemy.engine.Engine [raw sql] {}\n",
      "2023-11-14 20:07:14,067 INFO sqlalchemy.engine.Engine ROLLBACK\n",
      "2023-11-14 20:07:14,231 INFO sqlalchemy.engine.Engine BEGIN (implicit)\n",
      "2023-11-14 20:07:14,232 INFO sqlalchemy.engine.Engine SELECT * FROM adverts;\n",
      "2023-11-14 20:07:14,232 INFO sqlalchemy.engine.Engine [raw sql] {}\n",
      "2023-11-14 20:07:14,394 INFO sqlalchemy.engine.Engine ROLLBACK\n",
      "2023-11-14 20:07:14,565 INFO sqlalchemy.engine.Engine BEGIN (implicit)\n",
      "2023-11-14 20:07:14,567 INFO sqlalchemy.engine.Engine SELECT * FROM api_tokens;\n",
      "2023-11-14 20:07:14,569 INFO sqlalchemy.engine.Engine [raw sql] {}\n",
      "2023-11-14 20:07:15,072 INFO sqlalchemy.engine.Engine ROLLBACK\n",
      "2023-11-14 20:07:15,237 INFO sqlalchemy.engine.Engine BEGIN (implicit)\n",
      "2023-11-14 20:07:15,237 INFO sqlalchemy.engine.Engine SELECT * FROM cards;\n",
      "2023-11-14 20:07:15,238 INFO sqlalchemy.engine.Engine [raw sql] {}\n",
      "2023-11-14 20:07:15,406 INFO sqlalchemy.engine.Engine ROLLBACK\n",
      "2023-11-14 20:07:15,569 INFO sqlalchemy.engine.Engine BEGIN (implicit)\n",
      "2023-11-14 20:07:15,570 INFO sqlalchemy.engine.Engine SELECT * FROM customers;\n",
      "2023-11-14 20:07:15,571 INFO sqlalchemy.engine.Engine [raw sql] {}\n",
      "2023-11-14 20:07:15,753 INFO sqlalchemy.engine.Engine ROLLBACK\n",
      "2023-11-14 20:07:15,914 INFO sqlalchemy.engine.Engine BEGIN (implicit)\n",
      "2023-11-14 20:07:15,915 INFO sqlalchemy.engine.Engine SELECT * FROM emails;\n",
      "2023-11-14 20:07:15,916 INFO sqlalchemy.engine.Engine [raw sql] {}\n",
      "2023-11-14 20:07:16,077 INFO sqlalchemy.engine.Engine ROLLBACK\n",
      "2023-11-14 20:07:16,269 INFO sqlalchemy.engine.Engine BEGIN (implicit)\n",
      "2023-11-14 20:07:16,269 INFO sqlalchemy.engine.Engine SELECT * FROM faqs;\n",
      "2023-11-14 20:07:16,270 INFO sqlalchemy.engine.Engine [raw sql] {}\n",
      "2023-11-14 20:07:16,445 INFO sqlalchemy.engine.Engine ROLLBACK\n",
      "2023-11-14 20:07:16,612 INFO sqlalchemy.engine.Engine BEGIN (implicit)\n",
      "2023-11-14 20:07:16,613 INFO sqlalchemy.engine.Engine SELECT * FROM http_events;\n",
      "2023-11-14 20:07:16,614 INFO sqlalchemy.engine.Engine [raw sql] {}\n",
      "2023-11-14 20:07:16,778 INFO sqlalchemy.engine.Engine ROLLBACK\n",
      "2023-11-14 20:07:16,942 INFO sqlalchemy.engine.Engine BEGIN (implicit)\n",
      "2023-11-14 20:07:16,944 INFO sqlalchemy.engine.Engine SELECT * FROM logs;\n",
      "2023-11-14 20:07:16,945 INFO sqlalchemy.engine.Engine [raw sql] {}\n",
      "2023-11-14 20:07:24,576 INFO sqlalchemy.engine.Engine ROLLBACK\n",
      "2023-11-14 20:07:24,762 INFO sqlalchemy.engine.Engine BEGIN (implicit)\n",
      "2023-11-14 20:07:24,762 INFO sqlalchemy.engine.Engine SELECT * FROM prices;\n",
      "2023-11-14 20:07:24,763 INFO sqlalchemy.engine.Engine [raw sql] {}\n",
      "2023-11-14 20:07:24,919 INFO sqlalchemy.engine.Engine ROLLBACK\n",
      "2023-11-14 20:07:25,079 INFO sqlalchemy.engine.Engine BEGIN (implicit)\n",
      "2023-11-14 20:07:25,080 INFO sqlalchemy.engine.Engine SELECT * FROM qrcodes;\n",
      "2023-11-14 20:07:25,081 INFO sqlalchemy.engine.Engine [raw sql] {}\n",
      "2023-11-14 20:07:25,254 INFO sqlalchemy.engine.Engine ROLLBACK\n",
      "2023-11-14 20:07:25,415 INFO sqlalchemy.engine.Engine BEGIN (implicit)\n",
      "2023-11-14 20:07:25,416 INFO sqlalchemy.engine.Engine SELECT * FROM services;\n",
      "2023-11-14 20:07:25,416 INFO sqlalchemy.engine.Engine [raw sql] {}\n",
      "2023-11-14 20:07:25,585 INFO sqlalchemy.engine.Engine ROLLBACK\n",
      "2023-11-14 20:07:25,754 INFO sqlalchemy.engine.Engine BEGIN (implicit)\n",
      "2023-11-14 20:07:25,755 INFO sqlalchemy.engine.Engine SELECT * FROM tenants;\n",
      "2023-11-14 20:07:25,756 INFO sqlalchemy.engine.Engine [raw sql] {}\n",
      "2023-11-14 20:07:25,928 INFO sqlalchemy.engine.Engine ROLLBACK\n",
      "2023-11-14 20:07:26,093 INFO sqlalchemy.engine.Engine BEGIN (implicit)\n",
      "2023-11-14 20:07:26,095 INFO sqlalchemy.engine.Engine SELECT * FROM tickets;\n",
      "2023-11-14 20:07:26,096 INFO sqlalchemy.engine.Engine [raw sql] {}\n",
      "2023-11-14 20:07:26,276 INFO sqlalchemy.engine.Engine ROLLBACK\n",
      "2023-11-14 20:07:26,434 INFO sqlalchemy.engine.Engine BEGIN (implicit)\n",
      "2023-11-14 20:07:26,435 INFO sqlalchemy.engine.Engine SELECT * FROM transactions;\n",
      "2023-11-14 20:07:26,435 INFO sqlalchemy.engine.Engine [raw sql] {}\n",
      "2023-11-14 20:07:26,609 INFO sqlalchemy.engine.Engine ROLLBACK\n",
      "2023-11-14 20:07:26,766 INFO sqlalchemy.engine.Engine BEGIN (implicit)\n",
      "2023-11-14 20:07:26,767 INFO sqlalchemy.engine.Engine SELECT * FROM user_tenants;\n",
      "2023-11-14 20:07:26,767 INFO sqlalchemy.engine.Engine [raw sql] {}\n",
      "2023-11-14 20:07:26,928 INFO sqlalchemy.engine.Engine ROLLBACK\n",
      "2023-11-14 20:07:27,094 INFO sqlalchemy.engine.Engine BEGIN (implicit)\n",
      "2023-11-14 20:07:27,095 INFO sqlalchemy.engine.Engine SELECT * FROM users;\n",
      "2023-11-14 20:07:27,095 INFO sqlalchemy.engine.Engine [raw sql] {}\n",
      "2023-11-14 20:07:27,258 INFO sqlalchemy.engine.Engine ROLLBACK\n",
      "2023-11-14 20:07:27,431 INFO sqlalchemy.engine.Engine BEGIN (implicit)\n",
      "2023-11-14 20:07:27,432 INFO sqlalchemy.engine.Engine SELECT * FROM v2_schema;\n",
      "2023-11-14 20:07:27,433 INFO sqlalchemy.engine.Engine [raw sql] {}\n",
      "2023-11-14 20:07:27,594 INFO sqlalchemy.engine.Engine ROLLBACK\n",
      "2023-11-14 20:07:27,769 INFO sqlalchemy.engine.Engine BEGIN (implicit)\n",
      "2023-11-14 20:07:27,770 INFO sqlalchemy.engine.Engine SELECT * FROM v2_schema_lock;\n",
      "2023-11-14 20:07:27,771 INFO sqlalchemy.engine.Engine [raw sql] {}\n",
      "2023-11-14 20:07:27,931 INFO sqlalchemy.engine.Engine ROLLBACK\n"
     ]
    }
   ],
   "source": [
    "for table in tables[\"Tables_in_jcpmdb\"]:\n",
    "    run_query(\"SELECT * FROM \" + table + \";\", connection).to_pickle('./data_source/' + table + '.pickle')"
   ]
  },
  {
   "cell_type": "code",
   "execution_count": 7,
   "id": "e96f0c53-47ea-4302-b77f-c0594784f55c",
   "metadata": {},
   "outputs": [],
   "source": [
    "connection.dispose()"
   ]
  },
  {
   "cell_type": "code",
   "execution_count": 8,
   "id": "f49a0daa-d7ed-4b4a-bfb7-aa8f1695b41f",
   "metadata": {},
   "outputs": [
    {
     "name": "stderr",
     "output_type": "stream",
     "text": [
      "2023-11-14 20:07:28,126| INF | MainThrea/1374@sshtunnel | Closing all open connections...\n",
      "2023-11-14 20:07:28,129| DEB | MainThrea/1378@sshtunnel | Listening tunnels: 0.0.0.0:36561\n",
      "2023-11-14 20:07:28,130| INF | MainThrea/1458@sshtunnel | Shutting down tunnel: 0.0.0.0:36561 <> grjcpm-rds-aurora-bossabox.cluster-ccmlp7sdp395.us-east-1.rds.amazonaws.com:3306 (up)\n",
      "2023-11-14 20:07:28,190| INF | Srv-36561/1439@sshtunnel | Tunnel: 0.0.0.0:36561 <> grjcpm-rds-aurora-bossabox.cluster-ccmlp7sdp395.us-east-1.rds.amazonaws.com:3306 released\n",
      "2023-11-14 20:07:28,191| INF | MainThrea/1474@sshtunnel | Closing ssh transport\n",
      "2023-11-14 20:07:28,193| DEB | MainThrea/1477@sshtunnel | Transport is closed\n"
     ]
    }
   ],
   "source": [
    "tunnel.stop()"
   ]
  }
 ],
 "metadata": {
  "kernelspec": {
   "display_name": "Python 3 (ipykernel)",
   "language": "python",
   "name": "python3"
  },
  "language_info": {
   "codemirror_mode": {
    "name": "ipython",
    "version": 3
   },
   "file_extension": ".py",
   "mimetype": "text/x-python",
   "name": "python",
   "nbconvert_exporter": "python",
   "pygments_lexer": "ipython3",
   "version": "3.11.4"
  }
 },
 "nbformat": 4,
 "nbformat_minor": 5
}
