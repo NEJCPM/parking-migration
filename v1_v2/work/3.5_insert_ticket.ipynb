{
 "cells": [
  {
   "cell_type": "code",
   "execution_count": null,
   "id": "69db8c12-d161-4ded-9e5f-b2fa155b8bc1",
   "metadata": {},
   "outputs": [],
   "source": [
    "%pip install sqlalchemy sshtunnel psycopg2-binary"
   ]
  },
  {
   "cell_type": "code",
   "execution_count": null,
   "id": "0e128014-1084-40c6-a368-24dbb3942a3b",
   "metadata": {},
   "outputs": [],
   "source": [
    "import pandas as pd\n",
    "import environment as env\n",
    "from utils import *"
   ]
  },
  {
   "cell_type": "code",
   "execution_count": null,
   "id": "af0f857b-0747-4162-9f7a-c85571a3903c",
   "metadata": {},
   "outputs": [],
   "source": [
    "tunnel = open_ssh_tunnel(env.ssh_username, env.ssh_password, env.ssh_host, env.target_database_host, env.target_database_port)"
   ]
  },
  {
   "cell_type": "code",
   "execution_count": null,
   "id": "23f8dfb0-ae58-45f0-bfce-e46ef379f4df",
   "metadata": {},
   "outputs": [],
   "source": [
    "connection = postgres_connect(env.target_database_username, env.target_database_password, env.target_database_host, env.target_database_port, env.target_database_name)"
   ]
  },
  {
   "cell_type": "code",
   "execution_count": null,
   "id": "879bc429-1092-4e52-94ee-98fa7c965966",
   "metadata": {},
   "outputs": [],
   "source": [
    "target_tickets = pd.read_pickle('./data_target/ticket.pickle')\n",
    "target_tickets"
   ]
  },
  {
   "cell_type": "code",
   "execution_count": null,
   "id": "3868cfe7-74da-45af-b046-03ae2c7a95c7",
   "metadata": {},
   "outputs": [],
   "source": [
    "string_target_ticket_ids = [str(id) for id in target_tickets['id']]\n",
    "string_target_ticket_ids"
   ]
  },
  {
   "cell_type": "code",
   "execution_count": null,
   "id": "414d1509-85ca-4245-ae2d-5d6e240f0b7c",
   "metadata": {},
   "outputs": [],
   "source": [
    "tickets = pd.read_pickle('./data/ticket.pickle')\n",
    "tickets"
   ]
  },
  {
   "cell_type": "code",
   "execution_count": null,
   "id": "18e8c242-47b1-4b4c-a343-0bc9cb99fbc5",
   "metadata": {
    "scrolled": true
   },
   "outputs": [],
   "source": [
    "tickets_to_insert = tickets[~tickets['id'].isin(string_target_ticket_ids)]\n",
    "tickets_to_insert"
   ]
  },
  {
   "cell_type": "code",
   "execution_count": null,
   "id": "b87e6526-5703-4ed6-92a6-2685ef29ab6b",
   "metadata": {},
   "outputs": [],
   "source": [
    "tickets_to_not_insert = tickets[tickets['id'].isin(string_target_ticket_ids)]\n",
    "tickets_to_not_insert"
   ]
  },
  {
   "cell_type": "code",
   "execution_count": null,
   "id": "2070f268-2210-45c2-be62-0e570218fde8",
   "metadata": {},
   "outputs": [],
   "source": [
    "tickets_to_insert.to_sql('ticket', connection, if_exists=\"append\", index=False);"
   ]
  },
  {
   "cell_type": "code",
   "execution_count": null,
   "id": "02f74b1e-5142-4084-8267-5e237a2f0cb3",
   "metadata": {},
   "outputs": [],
   "source": [
    "connection.dispose()"
   ]
  },
  {
   "cell_type": "code",
   "execution_count": null,
   "id": "69e2774c-7b6d-43e8-b004-f3806e419b1e",
   "metadata": {},
   "outputs": [],
   "source": [
    "tunnel.stop()"
   ]
  }
 ],
 "metadata": {
  "kernelspec": {
   "display_name": "Python 3 (ipykernel)",
   "language": "python",
   "name": "python3"
  },
  "language_info": {
   "codemirror_mode": {
    "name": "ipython",
    "version": 3
   },
   "file_extension": ".py",
   "mimetype": "text/x-python",
   "name": "python",
   "nbconvert_exporter": "python",
   "pygments_lexer": "ipython3",
   "version": "3.11.4"
  }
 },
 "nbformat": 4,
 "nbformat_minor": 5
}
