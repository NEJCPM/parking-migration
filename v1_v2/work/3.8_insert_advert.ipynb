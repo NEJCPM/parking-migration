{
 "cells": [
  {
   "cell_type": "code",
   "execution_count": 1,
   "id": "69db8c12-d161-4ded-9e5f-b2fa155b8bc1",
   "metadata": {},
   "outputs": [
    {
     "name": "stdout",
     "output_type": "stream",
     "text": [
      "Requirement already satisfied: sqlalchemy in /opt/conda/lib/python3.11/site-packages (2.0.20)\n",
      "Requirement already satisfied: sshtunnel in /opt/conda/lib/python3.11/site-packages (0.4.0)\n",
      "Requirement already satisfied: psycopg2-binary in /opt/conda/lib/python3.11/site-packages (2.9.9)\n",
      "Requirement already satisfied: typing-extensions>=4.2.0 in /opt/conda/lib/python3.11/site-packages (from sqlalchemy) (4.7.1)\n",
      "Requirement already satisfied: greenlet!=0.4.17 in /opt/conda/lib/python3.11/site-packages (from sqlalchemy) (2.0.2)\n",
      "Requirement already satisfied: paramiko>=2.7.2 in /opt/conda/lib/python3.11/site-packages (from sshtunnel) (3.3.1)\n",
      "Requirement already satisfied: bcrypt>=3.2 in /opt/conda/lib/python3.11/site-packages (from paramiko>=2.7.2->sshtunnel) (4.0.1)\n",
      "Requirement already satisfied: cryptography>=3.3 in /opt/conda/lib/python3.11/site-packages (from paramiko>=2.7.2->sshtunnel) (41.0.3)\n",
      "Requirement already satisfied: pynacl>=1.5 in /opt/conda/lib/python3.11/site-packages (from paramiko>=2.7.2->sshtunnel) (1.5.0)\n",
      "Requirement already satisfied: cffi>=1.12 in /opt/conda/lib/python3.11/site-packages (from cryptography>=3.3->paramiko>=2.7.2->sshtunnel) (1.15.1)\n",
      "Requirement already satisfied: pycparser in /opt/conda/lib/python3.11/site-packages (from cffi>=1.12->cryptography>=3.3->paramiko>=2.7.2->sshtunnel) (2.21)\n",
      "Note: you may need to restart the kernel to use updated packages.\n"
     ]
    }
   ],
   "source": [
    "%pip install sqlalchemy sshtunnel psycopg2-binary"
   ]
  },
  {
   "cell_type": "code",
   "execution_count": 2,
   "id": "0e128014-1084-40c6-a368-24dbb3942a3b",
   "metadata": {},
   "outputs": [],
   "source": [
    "import pandas as pd\n",
    "import environment as env\n",
    "from utils import *"
   ]
  },
  {
   "cell_type": "code",
   "execution_count": 3,
   "id": "af0f857b-0747-4162-9f7a-c85571a3903c",
   "metadata": {},
   "outputs": [
    {
     "name": "stderr",
     "output_type": "stream",
     "text": [
      "2023-11-16 14:46:21,406| WAR | MainThrea/1032@sshtunnel | Could not read SSH configuration file: ~/.ssh/config\n",
      "2023-11-16 14:46:21,407| INF | MainThrea/1060@sshtunnel | 0 keys loaded from agent\n",
      "2023-11-16 14:46:21,407| INF | MainThrea/1117@sshtunnel | 0 key(s) loaded\n",
      "2023-11-16 14:46:21,407| INF | MainThrea/0978@sshtunnel | Connecting to gateway: 172.17.0.1:22 as user 'william'\n",
      "2023-11-16 14:46:21,408| DEB | MainThrea/0983@sshtunnel | Concurrent connections allowed: True\n",
      "2023-11-16 14:46:21,408| DEB | MainThrea/1414@sshtunnel | Trying to log in with password: ************\n",
      "2023-11-16 14:46:21,409| DEB | MainThrea/1204@sshtunnel | Transport socket info: (<AddressFamily.AF_INET: 2>, <SocketKind.SOCK_STREAM: 1>, 0), timeout=0.1\n",
      "2023-11-16 14:46:21,550| INF | Srv-42839/1433@sshtunnel | Opening tunnel: 0.0.0.0:42839 <> 172.17.0.1:5432\n"
     ]
    }
   ],
   "source": [
    "tunnel = open_ssh_tunnel(env.ssh_username, env.ssh_password, env.ssh_host, env.target_database_host, env.target_database_port)"
   ]
  },
  {
   "cell_type": "code",
   "execution_count": 4,
   "id": "23f8dfb0-ae58-45f0-bfce-e46ef379f4df",
   "metadata": {},
   "outputs": [],
   "source": [
    "connection = postgres_connect(env.target_database_username, env.target_database_password, env.target_database_host, env.target_database_port, env.target_database_name)"
   ]
  },
  {
   "cell_type": "code",
   "execution_count": 5,
   "id": "414d1509-85ca-4245-ae2d-5d6e240f0b7c",
   "metadata": {},
   "outputs": [
    {
     "data": {
      "text/html": [
       "<div>\n",
       "<style scoped>\n",
       "    .dataframe tbody tr th:only-of-type {\n",
       "        vertical-align: middle;\n",
       "    }\n",
       "\n",
       "    .dataframe tbody tr th {\n",
       "        vertical-align: top;\n",
       "    }\n",
       "\n",
       "    .dataframe thead th {\n",
       "        text-align: right;\n",
       "    }\n",
       "</style>\n",
       "<table border=\"1\" class=\"dataframe\">\n",
       "  <thead>\n",
       "    <tr style=\"text-align: right;\">\n",
       "      <th></th>\n",
       "      <th>id</th>\n",
       "      <th>title</th>\n",
       "      <th>description</th>\n",
       "      <th>height</th>\n",
       "      <th>width</th>\n",
       "      <th>thumbnail</th>\n",
       "      <th>banner</th>\n",
       "      <th>button_text</th>\n",
       "      <th>url</th>\n",
       "      <th>status</th>\n",
       "      <th>start_date</th>\n",
       "      <th>end_date</th>\n",
       "      <th>shopping_id</th>\n",
       "      <th>created_at</th>\n",
       "      <th>updated_at</th>\n",
       "    </tr>\n",
       "  </thead>\n",
       "  <tbody>\n",
       "    <tr>\n",
       "      <th>0</th>\n",
       "      <td>71f16423-8d47-4e05-bcf7-4870665d94ae</td>\n",
       "      <td>Verão 2022</td>\n",
       "      <td>Campanha de Verão 2022</td>\n",
       "      <td>72</td>\n",
       "      <td>328</td>\n",
       "      <td>https://jcpm-parking-bossabox.s3.amazonaws.com...</td>\n",
       "      <td>https://jcpm-parking-bossabox.s3.amazonaws.com...</td>\n",
       "      <td>Aproveite agora!</td>\n",
       "      <td>http://compras.vivariomarrecife.com.br</td>\n",
       "      <td>active</td>\n",
       "      <td>2021-12-30 03:00:00 -0300</td>\n",
       "      <td>2022-01-30 03:00:00 -0300</td>\n",
       "      <td>ead5811c-3105-11ec-8d3d-0242ac130003</td>\n",
       "      <td>2021-12-30 14:39:13 -0300</td>\n",
       "      <td>2021-12-30 15:11:22 -0300</td>\n",
       "    </tr>\n",
       "  </tbody>\n",
       "</table>\n",
       "</div>"
      ],
      "text/plain": [
       "                                     id       title             description  \\\n",
       "0  71f16423-8d47-4e05-bcf7-4870665d94ae  Verão 2022  Campanha de Verão 2022   \n",
       "\n",
       "  height width                                          thumbnail  \\\n",
       "0     72   328  https://jcpm-parking-bossabox.s3.amazonaws.com...   \n",
       "\n",
       "                                              banner       button_text  \\\n",
       "0  https://jcpm-parking-bossabox.s3.amazonaws.com...  Aproveite agora!   \n",
       "\n",
       "                                      url  status                 start_date  \\\n",
       "0  http://compras.vivariomarrecife.com.br  active  2021-12-30 03:00:00 -0300   \n",
       "\n",
       "                    end_date                           shopping_id  \\\n",
       "0  2022-01-30 03:00:00 -0300  ead5811c-3105-11ec-8d3d-0242ac130003   \n",
       "\n",
       "                  created_at                 updated_at  \n",
       "0  2021-12-30 14:39:13 -0300  2021-12-30 15:11:22 -0300  "
      ]
     },
     "execution_count": 5,
     "metadata": {},
     "output_type": "execute_result"
    }
   ],
   "source": [
    "adverts = pd.read_pickle('./data/advert.pickle')\n",
    "adverts"
   ]
  },
  {
   "cell_type": "code",
   "execution_count": 6,
   "id": "2070f268-2210-45c2-be62-0e570218fde8",
   "metadata": {},
   "outputs": [],
   "source": [
    "adverts.to_sql('advert', connection, if_exists=\"append\", index=False);"
   ]
  },
  {
   "cell_type": "code",
   "execution_count": 7,
   "id": "defcc7be-2073-4859-9620-f0ce1f695c33",
   "metadata": {},
   "outputs": [],
   "source": [
    "connection.dispose()"
   ]
  },
  {
   "cell_type": "code",
   "execution_count": 8,
   "id": "0f490f78-1abd-497f-bc64-39baa63d7fbc",
   "metadata": {},
   "outputs": [
    {
     "name": "stderr",
     "output_type": "stream",
     "text": [
      "2023-11-16 14:46:21,752| INF | MainThrea/1374@sshtunnel | Closing all open connections...\n",
      "2023-11-16 14:46:21,754| DEB | MainThrea/1378@sshtunnel | Listening tunnels: 0.0.0.0:42839\n",
      "2023-11-16 14:46:21,754| INF | MainThrea/1458@sshtunnel | Shutting down tunnel: 0.0.0.0:42839 <> 172.17.0.1:5432 (up)\n",
      "2023-11-16 14:46:21,769| INF | Srv-42839/1439@sshtunnel | Tunnel: 0.0.0.0:42839 <> 172.17.0.1:5432 released\n",
      "2023-11-16 14:46:21,769| INF | MainThrea/1474@sshtunnel | Closing ssh transport\n",
      "2023-11-16 14:46:21,770| DEB | MainThrea/1477@sshtunnel | Transport is closed\n"
     ]
    }
   ],
   "source": [
    "tunnel.stop()"
   ]
  }
 ],
 "metadata": {
  "kernelspec": {
   "display_name": "Python 3 (ipykernel)",
   "language": "python",
   "name": "python3"
  },
  "language_info": {
   "codemirror_mode": {
    "name": "ipython",
    "version": 3
   },
   "file_extension": ".py",
   "mimetype": "text/x-python",
   "name": "python",
   "nbconvert_exporter": "python",
   "pygments_lexer": "ipython3",
   "version": "3.11.4"
  }
 },
 "nbformat": 4,
 "nbformat_minor": 5
}
