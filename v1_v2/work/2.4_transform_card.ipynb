{
 "cells": [
  {
   "cell_type": "code",
   "execution_count": null,
   "id": "494d7996-8bbe-4ca9-bb99-d40b9281875b",
   "metadata": {},
   "outputs": [],
   "source": [
    "import pandas as pd\n",
    "import environment as env\n",
    "from utils import *"
   ]
  },
  {
   "cell_type": "code",
   "execution_count": null,
   "id": "ad474519-e15e-4dad-a934-9231669603d2",
   "metadata": {},
   "outputs": [],
   "source": [
    "current_tenant = get_tenant(env.current_shopping)\n",
    "current_tenant"
   ]
  },
  {
   "cell_type": "code",
   "execution_count": null,
   "id": "930b0054-dc50-454d-b4ea-3de2be5c5dba",
   "metadata": {
    "scrolled": true
   },
   "outputs": [],
   "source": [
    "customers = pd.read_pickle('./data/customer.pickle')\n",
    "customers = customers.query(\"shopping_id == @env.current_shopping\")\n",
    "customers"
   ]
  },
  {
   "cell_type": "code",
   "execution_count": null,
   "id": "5ebed824-cf89-444f-b543-7cc16a885bd9",
   "metadata": {
    "scrolled": true
   },
   "outputs": [],
   "source": [
    "cards = pd.read_pickle('./data_source/cards.pickle')\n",
    "cards"
   ]
  },
  {
   "cell_type": "code",
   "execution_count": null,
   "id": "f61cd0ca-f404-4d8c-b6fc-a994d2cd4db2",
   "metadata": {
    "scrolled": true
   },
   "outputs": [],
   "source": [
    "cards = cards[cards.customer_id.isin(customers.id)]\n",
    "cards = cards.reset_index(drop=True)\n",
    "cards"
   ]
  },
  {
   "cell_type": "code",
   "execution_count": null,
   "id": "eeaf6745-1238-4343-bab8-2dc34ce5d88f",
   "metadata": {
    "scrolled": true
   },
   "outputs": [],
   "source": [
    "cards.loc[ cards['type'] == 'CREDIT', 'type'] = 'CREDIT_CARD'\n",
    "cards.loc[ cards['type'] == 'DEBIT', 'type'] = 'DEBIT_CARD'\n",
    "cards"
   ]
  },
  {
   "cell_type": "code",
   "execution_count": null,
   "id": "af3d7deb-7dd4-4f0d-94dd-071751f8f913",
   "metadata": {
    "scrolled": true
   },
   "outputs": [],
   "source": [
    "cards.loc[:, 'shopping_id'] = env.current_shopping\n",
    "cards"
   ]
  },
  {
   "cell_type": "code",
   "execution_count": null,
   "id": "363fbac3-e603-414c-842b-729a3d93d21d",
   "metadata": {},
   "outputs": [],
   "source": [
    "cards[\"created_at\"] = [ add_timezone_to_date(created_at) for created_at in cards[\"created_at\"]]\n",
    "cards[\"updated_at\"] = [ add_timezone_to_date(updated_at) for updated_at in cards[\"updated_at\"]]\n",
    "cards"
   ]
  },
  {
   "cell_type": "code",
   "execution_count": null,
   "id": "80e9d7a2-5892-471c-b6b4-d9012d411285",
   "metadata": {},
   "outputs": [],
   "source": [
    "cards.to_pickle('./data/card.pickle')"
   ]
  }
 ],
 "metadata": {
  "kernelspec": {
   "display_name": "Python 3 (ipykernel)",
   "language": "python",
   "name": "python3"
  },
  "language_info": {
   "codemirror_mode": {
    "name": "ipython",
    "version": 3
   },
   "file_extension": ".py",
   "mimetype": "text/x-python",
   "name": "python",
   "nbconvert_exporter": "python",
   "pygments_lexer": "ipython3",
   "version": "3.11.4"
  }
 },
 "nbformat": 4,
 "nbformat_minor": 5
}
