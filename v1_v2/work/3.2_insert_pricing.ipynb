{
 "cells": [
  {
   "cell_type": "code",
   "execution_count": 1,
   "id": "69db8c12-d161-4ded-9e5f-b2fa155b8bc1",
   "metadata": {},
   "outputs": [
    {
     "name": "stdout",
     "output_type": "stream",
     "text": [
      "Requirement already satisfied: sqlalchemy in /opt/conda/lib/python3.11/site-packages (2.0.20)\n",
      "Requirement already satisfied: sshtunnel in /opt/conda/lib/python3.11/site-packages (0.4.0)\n",
      "Requirement already satisfied: psycopg2-binary in /opt/conda/lib/python3.11/site-packages (2.9.9)\n",
      "Requirement already satisfied: typing-extensions>=4.2.0 in /opt/conda/lib/python3.11/site-packages (from sqlalchemy) (4.7.1)\n",
      "Requirement already satisfied: greenlet!=0.4.17 in /opt/conda/lib/python3.11/site-packages (from sqlalchemy) (2.0.2)\n",
      "Requirement already satisfied: paramiko>=2.7.2 in /opt/conda/lib/python3.11/site-packages (from sshtunnel) (3.3.1)\n",
      "Requirement already satisfied: bcrypt>=3.2 in /opt/conda/lib/python3.11/site-packages (from paramiko>=2.7.2->sshtunnel) (4.0.1)\n",
      "Requirement already satisfied: cryptography>=3.3 in /opt/conda/lib/python3.11/site-packages (from paramiko>=2.7.2->sshtunnel) (41.0.3)\n",
      "Requirement already satisfied: pynacl>=1.5 in /opt/conda/lib/python3.11/site-packages (from paramiko>=2.7.2->sshtunnel) (1.5.0)\n",
      "Requirement already satisfied: cffi>=1.12 in /opt/conda/lib/python3.11/site-packages (from cryptography>=3.3->paramiko>=2.7.2->sshtunnel) (1.15.1)\n",
      "Requirement already satisfied: pycparser in /opt/conda/lib/python3.11/site-packages (from cffi>=1.12->cryptography>=3.3->paramiko>=2.7.2->sshtunnel) (2.21)\n",
      "Note: you may need to restart the kernel to use updated packages.\n"
     ]
    }
   ],
   "source": [
    "%pip install sqlalchemy sshtunnel psycopg2-binary"
   ]
  },
  {
   "cell_type": "code",
   "execution_count": 2,
   "id": "0e128014-1084-40c6-a368-24dbb3942a3b",
   "metadata": {},
   "outputs": [],
   "source": [
    "import pandas as pd\n",
    "import environment as env\n",
    "from utils import *"
   ]
  },
  {
   "cell_type": "code",
   "execution_count": 3,
   "id": "af0f857b-0747-4162-9f7a-c85571a3903c",
   "metadata": {},
   "outputs": [
    {
     "name": "stderr",
     "output_type": "stream",
     "text": [
      "2023-11-14 20:17:41,299| WAR | MainThrea/1032@sshtunnel | Could not read SSH configuration file: ~/.ssh/config\n",
      "2023-11-14 20:17:41,299| INF | MainThrea/1060@sshtunnel | 0 keys loaded from agent\n",
      "2023-11-14 20:17:41,300| INF | MainThrea/1117@sshtunnel | 0 key(s) loaded\n",
      "2023-11-14 20:17:41,300| INF | MainThrea/0978@sshtunnel | Connecting to gateway: 172.17.0.1:22 as user 'william'\n",
      "2023-11-14 20:17:41,301| DEB | MainThrea/0983@sshtunnel | Concurrent connections allowed: True\n",
      "2023-11-14 20:17:41,301| DEB | MainThrea/1414@sshtunnel | Trying to log in with password: ************\n",
      "2023-11-14 20:17:41,303| DEB | MainThrea/1204@sshtunnel | Transport socket info: (<AddressFamily.AF_INET: 2>, <SocketKind.SOCK_STREAM: 1>, 0), timeout=0.1\n",
      "2023-11-14 20:17:41,490| INF | Srv-46431/1433@sshtunnel | Opening tunnel: 0.0.0.0:46431 <> 172.17.0.1:5432\n"
     ]
    }
   ],
   "source": [
    "tunnel = open_ssh_tunnel(env.ssh_username, env.ssh_password, env.ssh_host, env.target_database_host, env.target_database_port)"
   ]
  },
  {
   "cell_type": "code",
   "execution_count": 4,
   "id": "23f8dfb0-ae58-45f0-bfce-e46ef379f4df",
   "metadata": {},
   "outputs": [],
   "source": [
    "connection = postgres_connect(env.target_database_username, env.target_database_password, env.target_database_host, env.target_database_port, env.target_database_name)"
   ]
  },
  {
   "cell_type": "code",
   "execution_count": 5,
   "id": "6396715e-af68-478d-81c4-f09453dbc606",
   "metadata": {},
   "outputs": [
    {
     "data": {
      "text/html": [
       "<div>\n",
       "<style scoped>\n",
       "    .dataframe tbody tr th:only-of-type {\n",
       "        vertical-align: middle;\n",
       "    }\n",
       "\n",
       "    .dataframe tbody tr th {\n",
       "        vertical-align: top;\n",
       "    }\n",
       "\n",
       "    .dataframe thead th {\n",
       "        text-align: right;\n",
       "    }\n",
       "</style>\n",
       "<table border=\"1\" class=\"dataframe\">\n",
       "  <thead>\n",
       "    <tr style=\"text-align: right;\">\n",
       "      <th></th>\n",
       "      <th>id</th>\n",
       "      <th>shopping_id</th>\n",
       "      <th>type</th>\n",
       "      <th>label</th>\n",
       "      <th>value</th>\n",
       "      <th>order</th>\n",
       "      <th>created_at</th>\n",
       "      <th>updated_at</th>\n",
       "    </tr>\n",
       "  </thead>\n",
       "  <tbody>\n",
       "  </tbody>\n",
       "</table>\n",
       "</div>"
      ],
      "text/plain": [
       "Empty DataFrame\n",
       "Columns: [id, shopping_id, type, label, value, order, created_at, updated_at]\n",
       "Index: []"
      ]
     },
     "execution_count": 5,
     "metadata": {},
     "output_type": "execute_result"
    }
   ],
   "source": [
    "target_prices = pd.read_pickle('./data_target/pricing.pickle')\n",
    "target_prices"
   ]
  },
  {
   "cell_type": "code",
   "execution_count": 6,
   "id": "63d5d146-9b75-44ad-98cc-8651d6742a13",
   "metadata": {},
   "outputs": [
    {
     "data": {
      "text/plain": [
       "[]"
      ]
     },
     "execution_count": 6,
     "metadata": {},
     "output_type": "execute_result"
    }
   ],
   "source": [
    "string_target_price_ids = [str(id) for id in target_prices['id']]\n",
    "string_target_price_ids"
   ]
  },
  {
   "cell_type": "code",
   "execution_count": 7,
   "id": "414d1509-85ca-4245-ae2d-5d6e240f0b7c",
   "metadata": {},
   "outputs": [
    {
     "data": {
      "text/html": [
       "<div>\n",
       "<style scoped>\n",
       "    .dataframe tbody tr th:only-of-type {\n",
       "        vertical-align: middle;\n",
       "    }\n",
       "\n",
       "    .dataframe tbody tr th {\n",
       "        vertical-align: top;\n",
       "    }\n",
       "\n",
       "    .dataframe thead th {\n",
       "        text-align: right;\n",
       "    }\n",
       "</style>\n",
       "<table border=\"1\" class=\"dataframe\">\n",
       "  <thead>\n",
       "    <tr style=\"text-align: right;\">\n",
       "      <th></th>\n",
       "      <th>id</th>\n",
       "      <th>shopping_id</th>\n",
       "      <th>type</th>\n",
       "      <th>label</th>\n",
       "      <th>value</th>\n",
       "      <th>order</th>\n",
       "      <th>created_at</th>\n",
       "      <th>updated_at</th>\n",
       "    </tr>\n",
       "  </thead>\n",
       "  <tbody>\n",
       "    <tr>\n",
       "      <th>0</th>\n",
       "      <td>7e9a78a5-d578-4a68-a9de-d7c732581fcd</td>\n",
       "      <td>ead5811c-3105-11ec-8d3d-0242ac130003</td>\n",
       "      <td>car</td>\n",
       "      <td>Hora ou fração adicional</td>\n",
       "      <td>R$ 2,00</td>\n",
       "      <td>1</td>\n",
       "      <td>2021-12-15 12:08:28 -0300</td>\n",
       "      <td>2022-01-03 13:13:14 -0300</td>\n",
       "    </tr>\n",
       "    <tr>\n",
       "      <th>1</th>\n",
       "      <td>95d87173-e11a-470d-a1a0-08ade4f5d1a8</td>\n",
       "      <td>ead5811c-3105-11ec-8d3d-0242ac130003</td>\n",
       "      <td>car</td>\n",
       "      <td>Permanência até 4 horas</td>\n",
       "      <td>R$ 10,50</td>\n",
       "      <td>0</td>\n",
       "      <td>2021-12-13 18:46:19 -0300</td>\n",
       "      <td>2022-01-03 13:13:14 -0300</td>\n",
       "    </tr>\n",
       "    <tr>\n",
       "      <th>2</th>\n",
       "      <td>b9823247-2c6b-4a32-9657-1faa9ef1669b</td>\n",
       "      <td>ead5811c-3105-11ec-8d3d-0242ac130003</td>\n",
       "      <td>motorcycle</td>\n",
       "      <td>Permanência até 4 horas</td>\n",
       "      <td>R$ 5,00</td>\n",
       "      <td>1</td>\n",
       "      <td>2021-12-15 12:09:15 -0300</td>\n",
       "      <td>2022-01-03 13:13:14 -0300</td>\n",
       "    </tr>\n",
       "    <tr>\n",
       "      <th>3</th>\n",
       "      <td>e67a22f3-6129-4e7b-8eb7-096b1b81c7c8</td>\n",
       "      <td>ead5811c-3105-11ec-8d3d-0242ac130003</td>\n",
       "      <td>motorcycle</td>\n",
       "      <td>Hora ou fração adicional</td>\n",
       "      <td>R$ 1,00</td>\n",
       "      <td>2</td>\n",
       "      <td>2021-12-15 12:09:15 -0300</td>\n",
       "      <td>2022-01-03 13:13:14 -0300</td>\n",
       "    </tr>\n",
       "    <tr>\n",
       "      <th>4</th>\n",
       "      <td>ec5a6f14-8f07-4000-bf68-27f2fed3d0a6</td>\n",
       "      <td>ead5811c-3105-11ec-8d3d-0242ac130003</td>\n",
       "      <td>car</td>\n",
       "      <td>15 Minutos</td>\n",
       "      <td>Carência</td>\n",
       "      <td>2</td>\n",
       "      <td>2021-12-30 19:48:32 -0300</td>\n",
       "      <td>2022-01-03 13:13:14 -0300</td>\n",
       "    </tr>\n",
       "    <tr>\n",
       "      <th>5</th>\n",
       "      <td>ed38249e-2ebe-4e12-a146-99d5a282addb</td>\n",
       "      <td>ead5811c-3105-11ec-8d3d-0242ac130003</td>\n",
       "      <td>motorcycle</td>\n",
       "      <td>15 Minutos</td>\n",
       "      <td>Carência</td>\n",
       "      <td>0</td>\n",
       "      <td>2021-12-13 19:59:17 -0300</td>\n",
       "      <td>2022-01-03 13:13:14 -0300</td>\n",
       "    </tr>\n",
       "  </tbody>\n",
       "</table>\n",
       "</div>"
      ],
      "text/plain": [
       "                                     id                           shopping_id  \\\n",
       "0  7e9a78a5-d578-4a68-a9de-d7c732581fcd  ead5811c-3105-11ec-8d3d-0242ac130003   \n",
       "1  95d87173-e11a-470d-a1a0-08ade4f5d1a8  ead5811c-3105-11ec-8d3d-0242ac130003   \n",
       "2  b9823247-2c6b-4a32-9657-1faa9ef1669b  ead5811c-3105-11ec-8d3d-0242ac130003   \n",
       "3  e67a22f3-6129-4e7b-8eb7-096b1b81c7c8  ead5811c-3105-11ec-8d3d-0242ac130003   \n",
       "4  ec5a6f14-8f07-4000-bf68-27f2fed3d0a6  ead5811c-3105-11ec-8d3d-0242ac130003   \n",
       "5  ed38249e-2ebe-4e12-a146-99d5a282addb  ead5811c-3105-11ec-8d3d-0242ac130003   \n",
       "\n",
       "         type                     label     value order  \\\n",
       "0         car  Hora ou fração adicional   R$ 2,00     1   \n",
       "1         car   Permanência até 4 horas  R$ 10,50     0   \n",
       "2  motorcycle   Permanência até 4 horas   R$ 5,00     1   \n",
       "3  motorcycle  Hora ou fração adicional   R$ 1,00     2   \n",
       "4         car                15 Minutos  Carência     2   \n",
       "5  motorcycle                15 Minutos  Carência     0   \n",
       "\n",
       "                  created_at                 updated_at  \n",
       "0  2021-12-15 12:08:28 -0300  2022-01-03 13:13:14 -0300  \n",
       "1  2021-12-13 18:46:19 -0300  2022-01-03 13:13:14 -0300  \n",
       "2  2021-12-15 12:09:15 -0300  2022-01-03 13:13:14 -0300  \n",
       "3  2021-12-15 12:09:15 -0300  2022-01-03 13:13:14 -0300  \n",
       "4  2021-12-30 19:48:32 -0300  2022-01-03 13:13:14 -0300  \n",
       "5  2021-12-13 19:59:17 -0300  2022-01-03 13:13:14 -0300  "
      ]
     },
     "execution_count": 7,
     "metadata": {},
     "output_type": "execute_result"
    }
   ],
   "source": [
    "prices = pd.read_pickle('./data/pricing.pickle')\n",
    "prices"
   ]
  },
  {
   "cell_type": "code",
   "execution_count": 8,
   "id": "9b929938-5be6-4b4a-b318-a932e151a9c0",
   "metadata": {},
   "outputs": [
    {
     "data": {
      "text/html": [
       "<div>\n",
       "<style scoped>\n",
       "    .dataframe tbody tr th:only-of-type {\n",
       "        vertical-align: middle;\n",
       "    }\n",
       "\n",
       "    .dataframe tbody tr th {\n",
       "        vertical-align: top;\n",
       "    }\n",
       "\n",
       "    .dataframe thead th {\n",
       "        text-align: right;\n",
       "    }\n",
       "</style>\n",
       "<table border=\"1\" class=\"dataframe\">\n",
       "  <thead>\n",
       "    <tr style=\"text-align: right;\">\n",
       "      <th></th>\n",
       "      <th>id</th>\n",
       "      <th>shopping_id</th>\n",
       "      <th>type</th>\n",
       "      <th>label</th>\n",
       "      <th>value</th>\n",
       "      <th>order</th>\n",
       "      <th>created_at</th>\n",
       "      <th>updated_at</th>\n",
       "    </tr>\n",
       "  </thead>\n",
       "  <tbody>\n",
       "    <tr>\n",
       "      <th>0</th>\n",
       "      <td>7e9a78a5-d578-4a68-a9de-d7c732581fcd</td>\n",
       "      <td>ead5811c-3105-11ec-8d3d-0242ac130003</td>\n",
       "      <td>car</td>\n",
       "      <td>Hora ou fração adicional</td>\n",
       "      <td>R$ 2,00</td>\n",
       "      <td>1</td>\n",
       "      <td>2021-12-15 12:08:28 -0300</td>\n",
       "      <td>2022-01-03 13:13:14 -0300</td>\n",
       "    </tr>\n",
       "    <tr>\n",
       "      <th>1</th>\n",
       "      <td>95d87173-e11a-470d-a1a0-08ade4f5d1a8</td>\n",
       "      <td>ead5811c-3105-11ec-8d3d-0242ac130003</td>\n",
       "      <td>car</td>\n",
       "      <td>Permanência até 4 horas</td>\n",
       "      <td>R$ 10,50</td>\n",
       "      <td>0</td>\n",
       "      <td>2021-12-13 18:46:19 -0300</td>\n",
       "      <td>2022-01-03 13:13:14 -0300</td>\n",
       "    </tr>\n",
       "    <tr>\n",
       "      <th>2</th>\n",
       "      <td>b9823247-2c6b-4a32-9657-1faa9ef1669b</td>\n",
       "      <td>ead5811c-3105-11ec-8d3d-0242ac130003</td>\n",
       "      <td>motorcycle</td>\n",
       "      <td>Permanência até 4 horas</td>\n",
       "      <td>R$ 5,00</td>\n",
       "      <td>1</td>\n",
       "      <td>2021-12-15 12:09:15 -0300</td>\n",
       "      <td>2022-01-03 13:13:14 -0300</td>\n",
       "    </tr>\n",
       "    <tr>\n",
       "      <th>3</th>\n",
       "      <td>e67a22f3-6129-4e7b-8eb7-096b1b81c7c8</td>\n",
       "      <td>ead5811c-3105-11ec-8d3d-0242ac130003</td>\n",
       "      <td>motorcycle</td>\n",
       "      <td>Hora ou fração adicional</td>\n",
       "      <td>R$ 1,00</td>\n",
       "      <td>2</td>\n",
       "      <td>2021-12-15 12:09:15 -0300</td>\n",
       "      <td>2022-01-03 13:13:14 -0300</td>\n",
       "    </tr>\n",
       "    <tr>\n",
       "      <th>4</th>\n",
       "      <td>ec5a6f14-8f07-4000-bf68-27f2fed3d0a6</td>\n",
       "      <td>ead5811c-3105-11ec-8d3d-0242ac130003</td>\n",
       "      <td>car</td>\n",
       "      <td>15 Minutos</td>\n",
       "      <td>Carência</td>\n",
       "      <td>2</td>\n",
       "      <td>2021-12-30 19:48:32 -0300</td>\n",
       "      <td>2022-01-03 13:13:14 -0300</td>\n",
       "    </tr>\n",
       "    <tr>\n",
       "      <th>5</th>\n",
       "      <td>ed38249e-2ebe-4e12-a146-99d5a282addb</td>\n",
       "      <td>ead5811c-3105-11ec-8d3d-0242ac130003</td>\n",
       "      <td>motorcycle</td>\n",
       "      <td>15 Minutos</td>\n",
       "      <td>Carência</td>\n",
       "      <td>0</td>\n",
       "      <td>2021-12-13 19:59:17 -0300</td>\n",
       "      <td>2022-01-03 13:13:14 -0300</td>\n",
       "    </tr>\n",
       "  </tbody>\n",
       "</table>\n",
       "</div>"
      ],
      "text/plain": [
       "                                     id                           shopping_id  \\\n",
       "0  7e9a78a5-d578-4a68-a9de-d7c732581fcd  ead5811c-3105-11ec-8d3d-0242ac130003   \n",
       "1  95d87173-e11a-470d-a1a0-08ade4f5d1a8  ead5811c-3105-11ec-8d3d-0242ac130003   \n",
       "2  b9823247-2c6b-4a32-9657-1faa9ef1669b  ead5811c-3105-11ec-8d3d-0242ac130003   \n",
       "3  e67a22f3-6129-4e7b-8eb7-096b1b81c7c8  ead5811c-3105-11ec-8d3d-0242ac130003   \n",
       "4  ec5a6f14-8f07-4000-bf68-27f2fed3d0a6  ead5811c-3105-11ec-8d3d-0242ac130003   \n",
       "5  ed38249e-2ebe-4e12-a146-99d5a282addb  ead5811c-3105-11ec-8d3d-0242ac130003   \n",
       "\n",
       "         type                     label     value order  \\\n",
       "0         car  Hora ou fração adicional   R$ 2,00     1   \n",
       "1         car   Permanência até 4 horas  R$ 10,50     0   \n",
       "2  motorcycle   Permanência até 4 horas   R$ 5,00     1   \n",
       "3  motorcycle  Hora ou fração adicional   R$ 1,00     2   \n",
       "4         car                15 Minutos  Carência     2   \n",
       "5  motorcycle                15 Minutos  Carência     0   \n",
       "\n",
       "                  created_at                 updated_at  \n",
       "0  2021-12-15 12:08:28 -0300  2022-01-03 13:13:14 -0300  \n",
       "1  2021-12-13 18:46:19 -0300  2022-01-03 13:13:14 -0300  \n",
       "2  2021-12-15 12:09:15 -0300  2022-01-03 13:13:14 -0300  \n",
       "3  2021-12-15 12:09:15 -0300  2022-01-03 13:13:14 -0300  \n",
       "4  2021-12-30 19:48:32 -0300  2022-01-03 13:13:14 -0300  \n",
       "5  2021-12-13 19:59:17 -0300  2022-01-03 13:13:14 -0300  "
      ]
     },
     "execution_count": 8,
     "metadata": {},
     "output_type": "execute_result"
    }
   ],
   "source": [
    "prices_to_insert = prices[~prices['id'].isin(string_target_price_ids)]\n",
    "prices_to_insert"
   ]
  },
  {
   "cell_type": "code",
   "execution_count": 9,
   "id": "59e8170c-073e-4d66-8898-a38603360e09",
   "metadata": {},
   "outputs": [
    {
     "data": {
      "text/html": [
       "<div>\n",
       "<style scoped>\n",
       "    .dataframe tbody tr th:only-of-type {\n",
       "        vertical-align: middle;\n",
       "    }\n",
       "\n",
       "    .dataframe tbody tr th {\n",
       "        vertical-align: top;\n",
       "    }\n",
       "\n",
       "    .dataframe thead th {\n",
       "        text-align: right;\n",
       "    }\n",
       "</style>\n",
       "<table border=\"1\" class=\"dataframe\">\n",
       "  <thead>\n",
       "    <tr style=\"text-align: right;\">\n",
       "      <th></th>\n",
       "      <th>id</th>\n",
       "      <th>shopping_id</th>\n",
       "      <th>type</th>\n",
       "      <th>label</th>\n",
       "      <th>value</th>\n",
       "      <th>order</th>\n",
       "      <th>created_at</th>\n",
       "      <th>updated_at</th>\n",
       "    </tr>\n",
       "  </thead>\n",
       "  <tbody>\n",
       "  </tbody>\n",
       "</table>\n",
       "</div>"
      ],
      "text/plain": [
       "Empty DataFrame\n",
       "Columns: [id, shopping_id, type, label, value, order, created_at, updated_at]\n",
       "Index: []"
      ]
     },
     "execution_count": 9,
     "metadata": {},
     "output_type": "execute_result"
    }
   ],
   "source": [
    "prices_to_not_insert = prices[prices['id'].isin(string_target_price_ids)]\n",
    "prices_to_not_insert"
   ]
  },
  {
   "cell_type": "code",
   "execution_count": 10,
   "id": "2070f268-2210-45c2-be62-0e570218fde8",
   "metadata": {},
   "outputs": [],
   "source": [
    "prices_to_insert.to_sql('pricing', connection, if_exists=\"append\", index=False);"
   ]
  },
  {
   "cell_type": "code",
   "execution_count": 11,
   "id": "486c19d4-d987-4a0f-af2a-be89424c789e",
   "metadata": {},
   "outputs": [],
   "source": [
    "connection.dispose()"
   ]
  },
  {
   "cell_type": "code",
   "execution_count": 12,
   "id": "cb6bf0c3-9b9d-4cb8-ae66-bd445e93f8ca",
   "metadata": {},
   "outputs": [
    {
     "name": "stderr",
     "output_type": "stream",
     "text": [
      "2023-11-14 20:17:41,705| INF | MainThrea/1374@sshtunnel | Closing all open connections...\n",
      "2023-11-14 20:17:41,706| DEB | MainThrea/1378@sshtunnel | Listening tunnels: 0.0.0.0:46431\n",
      "2023-11-14 20:17:41,706| INF | MainThrea/1458@sshtunnel | Shutting down tunnel: 0.0.0.0:46431 <> 172.17.0.1:5432 (up)\n",
      "2023-11-14 20:17:41,794| INF | Srv-46431/1439@sshtunnel | Tunnel: 0.0.0.0:46431 <> 172.17.0.1:5432 released\n",
      "2023-11-14 20:17:41,794| INF | MainThrea/1474@sshtunnel | Closing ssh transport\n",
      "2023-11-14 20:17:41,797| DEB | MainThrea/1477@sshtunnel | Transport is closed\n"
     ]
    }
   ],
   "source": [
    "tunnel.stop()"
   ]
  }
 ],
 "metadata": {
  "kernelspec": {
   "display_name": "Python 3 (ipykernel)",
   "language": "python",
   "name": "python3"
  },
  "language_info": {
   "codemirror_mode": {
    "name": "ipython",
    "version": 3
   },
   "file_extension": ".py",
   "mimetype": "text/x-python",
   "name": "python",
   "nbconvert_exporter": "python",
   "pygments_lexer": "ipython3",
   "version": "3.11.4"
  }
 },
 "nbformat": 4,
 "nbformat_minor": 5
}
